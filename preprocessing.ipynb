{
  "nbformat": 4,
  "nbformat_minor": 0,
  "metadata": {
    "colab": {
      "provenance": []
    },
    "kernelspec": {
      "name": "python3",
      "display_name": "Python 3"
    },
    "language_info": {
      "name": "python"
    }
  },
  "cells": [
    {
      "cell_type": "code",
      "execution_count": null,
      "metadata": {
        "id": "m9US5MgKa5Lw"
      },
      "outputs": [],
      "source": [
        "import json\n",
        "import pandas as pd\n",
        "import numpy as np\n",
        "import nltk\n",
        "from nltk.corpus import stopwords\n",
        "import string\n"
      ]
    },
    {
      "cell_type": "code",
      "source": [
        "nltk.download('stopwords')\n",
        "stopwords_en = stopwords.words('english')\n",
        "stopwords_fr = stopwords.words('french')"
      ],
      "metadata": {
        "colab": {
          "base_uri": "https://localhost:8080/"
        },
        "id": "qqyCjb6NgoOw",
        "outputId": "ed95b723-cd30-4ec9-bf16-7e8d74ffa027"
      },
      "execution_count": null,
      "outputs": [
        {
          "output_type": "stream",
          "name": "stderr",
          "text": [
            "[nltk_data] Downloading package stopwords to /root/nltk_data...\n",
            "[nltk_data]   Unzipping corpora/stopwords.zip.\n"
          ]
        }
      ]
    },
    {
      "cell_type": "code",
      "source": [
        "nltk.download('wordnet')\n",
        "nltk.download('punkt')"
      ],
      "metadata": {
        "colab": {
          "base_uri": "https://localhost:8080/"
        },
        "id": "V7cxr_YllZ6z",
        "outputId": "f97399e0-711b-4651-e962-ba2f7500b8bf"
      },
      "execution_count": null,
      "outputs": [
        {
          "output_type": "stream",
          "name": "stderr",
          "text": [
            "[nltk_data] Downloading package wordnet to /root/nltk_data...\n",
            "[nltk_data] Downloading package punkt to /root/nltk_data...\n",
            "[nltk_data]   Unzipping tokenizers/punkt.zip.\n"
          ]
        },
        {
          "output_type": "execute_result",
          "data": {
            "text/plain": [
              "True"
            ]
          },
          "metadata": {},
          "execution_count": 3
        }
      ]
    },
    {
      "cell_type": "code",
      "source": [
        "with open(\"trial-v1.json\", \"r\") as f:\n",
        "    trial_data = json.load(f)\n",
        "\n",
        "df = pd.json_normalize(trial_data)\n",
        "\n",
        "#df.head(79)"
      ],
      "metadata": {
        "id": "M-DuGsrZbFip"
      },
      "execution_count": null,
      "outputs": []
    },
    {
      "cell_type": "markdown",
      "source": [
        "# Splitting into MT/DM/PG"
      ],
      "metadata": {
        "id": "JseVvSZSKiGj"
      }
    },
    {
      "cell_type": "code",
      "source": [
        "mt_df = pd.DataFrame(columns=df.columns)\n",
        "dm_df = pd.DataFrame(columns=df.columns)\n",
        "pg_df = pd.DataFrame(columns=df.columns)\n",
        "\n",
        "\n",
        "for index, row in df.iterrows():\n",
        "    task = row['task']\n",
        "    if task == 'MT':\n",
        "        mt_df = mt_df.append(row)\n",
        "    elif task == 'DM':\n",
        "        dm_df = dm_df.append(row)\n",
        "    elif task == 'PG':\n",
        "        pg_df = pg_df.append(row)\n",
        "\n",
        "mt_df.to_json(r'mt_oldindex_df.json', orient='records')\n",
        "dm_df.to_json(r'dm_oldindex_df.json', orient='records')\n",
        "pg_df.to_json(r'pg_oldindex_df.json', orient='records')\n",
        "\n",
        "# Reset the index for each new DataFrame\n",
        "mt_df.reset_index(drop=True, inplace=True)\n",
        "dm_df.reset_index(drop=True, inplace=True)\n",
        "pg_df.reset_index(drop=True, inplace=True)"
      ],
      "metadata": {
        "colab": {
          "base_uri": "https://localhost:8080/"
        },
        "id": "JQodlc0WKlJD",
        "outputId": "9cdd1fbd-dd9d-4952-a6a2-24c04ed43ddc"
      },
      "execution_count": null,
      "outputs": [
        {
          "output_type": "stream",
          "name": "stderr",
          "text": [
            "<ipython-input-5-aa54e8066caf>:11: FutureWarning: The frame.append method is deprecated and will be removed from pandas in a future version. Use pandas.concat instead.\n",
            "  dm_df = dm_df.append(row)\n",
            "<ipython-input-5-aa54e8066caf>:11: FutureWarning: The frame.append method is deprecated and will be removed from pandas in a future version. Use pandas.concat instead.\n",
            "  dm_df = dm_df.append(row)\n",
            "<ipython-input-5-aa54e8066caf>:11: FutureWarning: The frame.append method is deprecated and will be removed from pandas in a future version. Use pandas.concat instead.\n",
            "  dm_df = dm_df.append(row)\n",
            "<ipython-input-5-aa54e8066caf>:11: FutureWarning: The frame.append method is deprecated and will be removed from pandas in a future version. Use pandas.concat instead.\n",
            "  dm_df = dm_df.append(row)\n",
            "<ipython-input-5-aa54e8066caf>:11: FutureWarning: The frame.append method is deprecated and will be removed from pandas in a future version. Use pandas.concat instead.\n",
            "  dm_df = dm_df.append(row)\n",
            "<ipython-input-5-aa54e8066caf>:11: FutureWarning: The frame.append method is deprecated and will be removed from pandas in a future version. Use pandas.concat instead.\n",
            "  dm_df = dm_df.append(row)\n",
            "<ipython-input-5-aa54e8066caf>:11: FutureWarning: The frame.append method is deprecated and will be removed from pandas in a future version. Use pandas.concat instead.\n",
            "  dm_df = dm_df.append(row)\n",
            "<ipython-input-5-aa54e8066caf>:11: FutureWarning: The frame.append method is deprecated and will be removed from pandas in a future version. Use pandas.concat instead.\n",
            "  dm_df = dm_df.append(row)\n",
            "<ipython-input-5-aa54e8066caf>:11: FutureWarning: The frame.append method is deprecated and will be removed from pandas in a future version. Use pandas.concat instead.\n",
            "  dm_df = dm_df.append(row)\n",
            "<ipython-input-5-aa54e8066caf>:11: FutureWarning: The frame.append method is deprecated and will be removed from pandas in a future version. Use pandas.concat instead.\n",
            "  dm_df = dm_df.append(row)\n",
            "<ipython-input-5-aa54e8066caf>:11: FutureWarning: The frame.append method is deprecated and will be removed from pandas in a future version. Use pandas.concat instead.\n",
            "  dm_df = dm_df.append(row)\n",
            "<ipython-input-5-aa54e8066caf>:11: FutureWarning: The frame.append method is deprecated and will be removed from pandas in a future version. Use pandas.concat instead.\n",
            "  dm_df = dm_df.append(row)\n",
            "<ipython-input-5-aa54e8066caf>:11: FutureWarning: The frame.append method is deprecated and will be removed from pandas in a future version. Use pandas.concat instead.\n",
            "  dm_df = dm_df.append(row)\n",
            "<ipython-input-5-aa54e8066caf>:11: FutureWarning: The frame.append method is deprecated and will be removed from pandas in a future version. Use pandas.concat instead.\n",
            "  dm_df = dm_df.append(row)\n",
            "<ipython-input-5-aa54e8066caf>:11: FutureWarning: The frame.append method is deprecated and will be removed from pandas in a future version. Use pandas.concat instead.\n",
            "  dm_df = dm_df.append(row)\n",
            "<ipython-input-5-aa54e8066caf>:11: FutureWarning: The frame.append method is deprecated and will be removed from pandas in a future version. Use pandas.concat instead.\n",
            "  dm_df = dm_df.append(row)\n",
            "<ipython-input-5-aa54e8066caf>:11: FutureWarning: The frame.append method is deprecated and will be removed from pandas in a future version. Use pandas.concat instead.\n",
            "  dm_df = dm_df.append(row)\n",
            "<ipython-input-5-aa54e8066caf>:11: FutureWarning: The frame.append method is deprecated and will be removed from pandas in a future version. Use pandas.concat instead.\n",
            "  dm_df = dm_df.append(row)\n",
            "<ipython-input-5-aa54e8066caf>:11: FutureWarning: The frame.append method is deprecated and will be removed from pandas in a future version. Use pandas.concat instead.\n",
            "  dm_df = dm_df.append(row)\n",
            "<ipython-input-5-aa54e8066caf>:11: FutureWarning: The frame.append method is deprecated and will be removed from pandas in a future version. Use pandas.concat instead.\n",
            "  dm_df = dm_df.append(row)\n",
            "<ipython-input-5-aa54e8066caf>:11: FutureWarning: The frame.append method is deprecated and will be removed from pandas in a future version. Use pandas.concat instead.\n",
            "  dm_df = dm_df.append(row)\n",
            "<ipython-input-5-aa54e8066caf>:11: FutureWarning: The frame.append method is deprecated and will be removed from pandas in a future version. Use pandas.concat instead.\n",
            "  dm_df = dm_df.append(row)\n",
            "<ipython-input-5-aa54e8066caf>:11: FutureWarning: The frame.append method is deprecated and will be removed from pandas in a future version. Use pandas.concat instead.\n",
            "  dm_df = dm_df.append(row)\n",
            "<ipython-input-5-aa54e8066caf>:11: FutureWarning: The frame.append method is deprecated and will be removed from pandas in a future version. Use pandas.concat instead.\n",
            "  dm_df = dm_df.append(row)\n",
            "<ipython-input-5-aa54e8066caf>:11: FutureWarning: The frame.append method is deprecated and will be removed from pandas in a future version. Use pandas.concat instead.\n",
            "  dm_df = dm_df.append(row)\n",
            "<ipython-input-5-aa54e8066caf>:11: FutureWarning: The frame.append method is deprecated and will be removed from pandas in a future version. Use pandas.concat instead.\n",
            "  dm_df = dm_df.append(row)\n",
            "<ipython-input-5-aa54e8066caf>:11: FutureWarning: The frame.append method is deprecated and will be removed from pandas in a future version. Use pandas.concat instead.\n",
            "  dm_df = dm_df.append(row)\n",
            "<ipython-input-5-aa54e8066caf>:11: FutureWarning: The frame.append method is deprecated and will be removed from pandas in a future version. Use pandas.concat instead.\n",
            "  dm_df = dm_df.append(row)\n",
            "<ipython-input-5-aa54e8066caf>:11: FutureWarning: The frame.append method is deprecated and will be removed from pandas in a future version. Use pandas.concat instead.\n",
            "  dm_df = dm_df.append(row)\n",
            "<ipython-input-5-aa54e8066caf>:11: FutureWarning: The frame.append method is deprecated and will be removed from pandas in a future version. Use pandas.concat instead.\n",
            "  dm_df = dm_df.append(row)\n",
            "<ipython-input-5-aa54e8066caf>:11: FutureWarning: The frame.append method is deprecated and will be removed from pandas in a future version. Use pandas.concat instead.\n",
            "  dm_df = dm_df.append(row)\n",
            "<ipython-input-5-aa54e8066caf>:11: FutureWarning: The frame.append method is deprecated and will be removed from pandas in a future version. Use pandas.concat instead.\n",
            "  dm_df = dm_df.append(row)\n",
            "<ipython-input-5-aa54e8066caf>:11: FutureWarning: The frame.append method is deprecated and will be removed from pandas in a future version. Use pandas.concat instead.\n",
            "  dm_df = dm_df.append(row)\n",
            "<ipython-input-5-aa54e8066caf>:11: FutureWarning: The frame.append method is deprecated and will be removed from pandas in a future version. Use pandas.concat instead.\n",
            "  dm_df = dm_df.append(row)\n",
            "<ipython-input-5-aa54e8066caf>:11: FutureWarning: The frame.append method is deprecated and will be removed from pandas in a future version. Use pandas.concat instead.\n",
            "  dm_df = dm_df.append(row)\n",
            "<ipython-input-5-aa54e8066caf>:11: FutureWarning: The frame.append method is deprecated and will be removed from pandas in a future version. Use pandas.concat instead.\n",
            "  dm_df = dm_df.append(row)\n",
            "<ipython-input-5-aa54e8066caf>:13: FutureWarning: The frame.append method is deprecated and will be removed from pandas in a future version. Use pandas.concat instead.\n",
            "  pg_df = pg_df.append(row)\n",
            "<ipython-input-5-aa54e8066caf>:13: FutureWarning: The frame.append method is deprecated and will be removed from pandas in a future version. Use pandas.concat instead.\n",
            "  pg_df = pg_df.append(row)\n",
            "<ipython-input-5-aa54e8066caf>:13: FutureWarning: The frame.append method is deprecated and will be removed from pandas in a future version. Use pandas.concat instead.\n",
            "  pg_df = pg_df.append(row)\n",
            "<ipython-input-5-aa54e8066caf>:13: FutureWarning: The frame.append method is deprecated and will be removed from pandas in a future version. Use pandas.concat instead.\n",
            "  pg_df = pg_df.append(row)\n",
            "<ipython-input-5-aa54e8066caf>:13: FutureWarning: The frame.append method is deprecated and will be removed from pandas in a future version. Use pandas.concat instead.\n",
            "  pg_df = pg_df.append(row)\n",
            "<ipython-input-5-aa54e8066caf>:13: FutureWarning: The frame.append method is deprecated and will be removed from pandas in a future version. Use pandas.concat instead.\n",
            "  pg_df = pg_df.append(row)\n",
            "<ipython-input-5-aa54e8066caf>:13: FutureWarning: The frame.append method is deprecated and will be removed from pandas in a future version. Use pandas.concat instead.\n",
            "  pg_df = pg_df.append(row)\n",
            "<ipython-input-5-aa54e8066caf>:13: FutureWarning: The frame.append method is deprecated and will be removed from pandas in a future version. Use pandas.concat instead.\n",
            "  pg_df = pg_df.append(row)\n",
            "<ipython-input-5-aa54e8066caf>:13: FutureWarning: The frame.append method is deprecated and will be removed from pandas in a future version. Use pandas.concat instead.\n",
            "  pg_df = pg_df.append(row)\n",
            "<ipython-input-5-aa54e8066caf>:9: FutureWarning: The frame.append method is deprecated and will be removed from pandas in a future version. Use pandas.concat instead.\n",
            "  mt_df = mt_df.append(row)\n",
            "<ipython-input-5-aa54e8066caf>:9: FutureWarning: The frame.append method is deprecated and will be removed from pandas in a future version. Use pandas.concat instead.\n",
            "  mt_df = mt_df.append(row)\n",
            "<ipython-input-5-aa54e8066caf>:9: FutureWarning: The frame.append method is deprecated and will be removed from pandas in a future version. Use pandas.concat instead.\n",
            "  mt_df = mt_df.append(row)\n",
            "<ipython-input-5-aa54e8066caf>:9: FutureWarning: The frame.append method is deprecated and will be removed from pandas in a future version. Use pandas.concat instead.\n",
            "  mt_df = mt_df.append(row)\n",
            "<ipython-input-5-aa54e8066caf>:9: FutureWarning: The frame.append method is deprecated and will be removed from pandas in a future version. Use pandas.concat instead.\n",
            "  mt_df = mt_df.append(row)\n",
            "<ipython-input-5-aa54e8066caf>:9: FutureWarning: The frame.append method is deprecated and will be removed from pandas in a future version. Use pandas.concat instead.\n",
            "  mt_df = mt_df.append(row)\n",
            "<ipython-input-5-aa54e8066caf>:9: FutureWarning: The frame.append method is deprecated and will be removed from pandas in a future version. Use pandas.concat instead.\n",
            "  mt_df = mt_df.append(row)\n",
            "<ipython-input-5-aa54e8066caf>:9: FutureWarning: The frame.append method is deprecated and will be removed from pandas in a future version. Use pandas.concat instead.\n",
            "  mt_df = mt_df.append(row)\n",
            "<ipython-input-5-aa54e8066caf>:9: FutureWarning: The frame.append method is deprecated and will be removed from pandas in a future version. Use pandas.concat instead.\n",
            "  mt_df = mt_df.append(row)\n",
            "<ipython-input-5-aa54e8066caf>:9: FutureWarning: The frame.append method is deprecated and will be removed from pandas in a future version. Use pandas.concat instead.\n",
            "  mt_df = mt_df.append(row)\n",
            "<ipython-input-5-aa54e8066caf>:9: FutureWarning: The frame.append method is deprecated and will be removed from pandas in a future version. Use pandas.concat instead.\n",
            "  mt_df = mt_df.append(row)\n",
            "<ipython-input-5-aa54e8066caf>:9: FutureWarning: The frame.append method is deprecated and will be removed from pandas in a future version. Use pandas.concat instead.\n",
            "  mt_df = mt_df.append(row)\n",
            "<ipython-input-5-aa54e8066caf>:9: FutureWarning: The frame.append method is deprecated and will be removed from pandas in a future version. Use pandas.concat instead.\n",
            "  mt_df = mt_df.append(row)\n",
            "<ipython-input-5-aa54e8066caf>:9: FutureWarning: The frame.append method is deprecated and will be removed from pandas in a future version. Use pandas.concat instead.\n",
            "  mt_df = mt_df.append(row)\n",
            "<ipython-input-5-aa54e8066caf>:9: FutureWarning: The frame.append method is deprecated and will be removed from pandas in a future version. Use pandas.concat instead.\n",
            "  mt_df = mt_df.append(row)\n",
            "<ipython-input-5-aa54e8066caf>:9: FutureWarning: The frame.append method is deprecated and will be removed from pandas in a future version. Use pandas.concat instead.\n",
            "  mt_df = mt_df.append(row)\n",
            "<ipython-input-5-aa54e8066caf>:9: FutureWarning: The frame.append method is deprecated and will be removed from pandas in a future version. Use pandas.concat instead.\n",
            "  mt_df = mt_df.append(row)\n",
            "<ipython-input-5-aa54e8066caf>:9: FutureWarning: The frame.append method is deprecated and will be removed from pandas in a future version. Use pandas.concat instead.\n",
            "  mt_df = mt_df.append(row)\n",
            "<ipython-input-5-aa54e8066caf>:9: FutureWarning: The frame.append method is deprecated and will be removed from pandas in a future version. Use pandas.concat instead.\n",
            "  mt_df = mt_df.append(row)\n",
            "<ipython-input-5-aa54e8066caf>:9: FutureWarning: The frame.append method is deprecated and will be removed from pandas in a future version. Use pandas.concat instead.\n",
            "  mt_df = mt_df.append(row)\n",
            "<ipython-input-5-aa54e8066caf>:9: FutureWarning: The frame.append method is deprecated and will be removed from pandas in a future version. Use pandas.concat instead.\n",
            "  mt_df = mt_df.append(row)\n",
            "<ipython-input-5-aa54e8066caf>:9: FutureWarning: The frame.append method is deprecated and will be removed from pandas in a future version. Use pandas.concat instead.\n",
            "  mt_df = mt_df.append(row)\n",
            "<ipython-input-5-aa54e8066caf>:9: FutureWarning: The frame.append method is deprecated and will be removed from pandas in a future version. Use pandas.concat instead.\n",
            "  mt_df = mt_df.append(row)\n",
            "<ipython-input-5-aa54e8066caf>:9: FutureWarning: The frame.append method is deprecated and will be removed from pandas in a future version. Use pandas.concat instead.\n",
            "  mt_df = mt_df.append(row)\n",
            "<ipython-input-5-aa54e8066caf>:9: FutureWarning: The frame.append method is deprecated and will be removed from pandas in a future version. Use pandas.concat instead.\n",
            "  mt_df = mt_df.append(row)\n",
            "<ipython-input-5-aa54e8066caf>:9: FutureWarning: The frame.append method is deprecated and will be removed from pandas in a future version. Use pandas.concat instead.\n",
            "  mt_df = mt_df.append(row)\n",
            "<ipython-input-5-aa54e8066caf>:9: FutureWarning: The frame.append method is deprecated and will be removed from pandas in a future version. Use pandas.concat instead.\n",
            "  mt_df = mt_df.append(row)\n",
            "<ipython-input-5-aa54e8066caf>:9: FutureWarning: The frame.append method is deprecated and will be removed from pandas in a future version. Use pandas.concat instead.\n",
            "  mt_df = mt_df.append(row)\n",
            "<ipython-input-5-aa54e8066caf>:9: FutureWarning: The frame.append method is deprecated and will be removed from pandas in a future version. Use pandas.concat instead.\n",
            "  mt_df = mt_df.append(row)\n",
            "<ipython-input-5-aa54e8066caf>:9: FutureWarning: The frame.append method is deprecated and will be removed from pandas in a future version. Use pandas.concat instead.\n",
            "  mt_df = mt_df.append(row)\n",
            "<ipython-input-5-aa54e8066caf>:9: FutureWarning: The frame.append method is deprecated and will be removed from pandas in a future version. Use pandas.concat instead.\n",
            "  mt_df = mt_df.append(row)\n",
            "<ipython-input-5-aa54e8066caf>:9: FutureWarning: The frame.append method is deprecated and will be removed from pandas in a future version. Use pandas.concat instead.\n",
            "  mt_df = mt_df.append(row)\n",
            "<ipython-input-5-aa54e8066caf>:9: FutureWarning: The frame.append method is deprecated and will be removed from pandas in a future version. Use pandas.concat instead.\n",
            "  mt_df = mt_df.append(row)\n",
            "<ipython-input-5-aa54e8066caf>:9: FutureWarning: The frame.append method is deprecated and will be removed from pandas in a future version. Use pandas.concat instead.\n",
            "  mt_df = mt_df.append(row)\n",
            "<ipython-input-5-aa54e8066caf>:9: FutureWarning: The frame.append method is deprecated and will be removed from pandas in a future version. Use pandas.concat instead.\n",
            "  mt_df = mt_df.append(row)\n"
          ]
        }
      ]
    },
    {
      "cell_type": "code",
      "source": [
        "mt_df.to_json(r'mt_df.json', orient='records')\n",
        "dm_df.to_json(r'dm_df.json', orient='records')\n",
        "pg_df.to_json(r'pg_df.json', orient='records')"
      ],
      "metadata": {
        "id": "lripLR4pLsak"
      },
      "execution_count": null,
      "outputs": []
    },
    {
      "cell_type": "markdown",
      "source": [
        "# Lower-casing"
      ],
      "metadata": {
        "id": "tdGnrsFrdj-8"
      }
    },
    {
      "cell_type": "code",
      "source": [
        "df['hyp'] = df['hyp'].str.lower()\n",
        "df['src'] = df['src'].str.lower()\n",
        "df['tgt'] = df['tgt'].str.lower()"
      ],
      "metadata": {
        "id": "BJrAafBNb8cj"
      },
      "execution_count": null,
      "outputs": []
    },
    {
      "cell_type": "markdown",
      "source": [
        "# Punctuation removal"
      ],
      "metadata": {
        "id": "_dQJwpRSgh_-"
      }
    },
    {
      "cell_type": "code",
      "source": [
        "def remove_punctuations(text):\n",
        "    for punctuation in string.punctuation:\n",
        "        text = text.replace(punctuation, '')\n",
        "    return text"
      ],
      "metadata": {
        "id": "z9IKxnm4gQtM"
      },
      "execution_count": null,
      "outputs": []
    },
    {
      "cell_type": "code",
      "source": [
        "df['hyp'] = df['hyp'].apply(remove_punctuations)\n",
        "df['src'] = df['src'].apply(remove_punctuations)\n",
        "df['tgt'] = df['tgt'].apply(remove_punctuations)"
      ],
      "metadata": {
        "id": "v_QzZsEYgT2w"
      },
      "execution_count": null,
      "outputs": []
    },
    {
      "cell_type": "markdown",
      "source": [
        "# Stopwords Removal"
      ],
      "metadata": {
        "id": "0ucD1PK9iTFr"
      }
    },
    {
      "cell_type": "code",
      "source": [
        "df['hyp'] = df['hyp'].apply(lambda words: ' '.join(word.lower() for word in words.split() if word not in stopwords_en))\n",
        "df['tgt'] = df['tgt'].apply(lambda words: ' '.join(word.lower() for word in words.split() if word not in stopwords_en))\n",
        "#df['src'] = df['src'].apply(lambda words: ' '.join(word.lower() for word in words.split() if word not in stopwords_en))\n",
        "\n",
        "for i in range(0,80):\n",
        "  if df.iloc[i]['task'] == 'MT':\n",
        "    df['src'] = df['src'].apply(lambda words: ' '.join(word.lower() for word in words.split() if word not in stopwords_fr))\n",
        "  else:\n",
        "    df['src'] = df['src'].apply(lambda words: ' '.join(word.lower() for word in words.split() if word not in stopwords_en))"
      ],
      "metadata": {
        "id": "H9kWQUjqhGMW"
      },
      "execution_count": null,
      "outputs": []
    },
    {
      "cell_type": "markdown",
      "source": [
        "# Lemmatization (as extra feature)"
      ],
      "metadata": {
        "id": "fmrtWh-DnFYd"
      }
    },
    {
      "cell_type": "code",
      "source": [
        "w_tokenizer = nltk.tokenize.WhitespaceTokenizer()\n",
        "lemmatizer = nltk.stem.WordNetLemmatizer()\n",
        "def lemmatize_text(text):\n",
        "  return [lemmatizer.lemmatize(w) for w in w_tokenizer.tokenize(text)]"
      ],
      "metadata": {
        "id": "-92tMgJ8iYAM"
      },
      "execution_count": null,
      "outputs": []
    },
    {
      "cell_type": "code",
      "source": [
        "df['hyp_lemmatized'] = df['hyp'].apply(lemmatize_text)\n",
        "df['src_lemmatized'] = df['src'].apply(lemmatize_text)\n",
        "df['tgt_lemmatized'] = df['tgt'].apply(lemmatize_text)"
      ],
      "metadata": {
        "id": "wPDJjYT7l4IF"
      },
      "execution_count": null,
      "outputs": []
    },
    {
      "cell_type": "markdown",
      "source": [
        "# Feature 'mutual words' added"
      ],
      "metadata": {
        "id": "Po21pa3KT9a2"
      }
    },
    {
      "cell_type": "code",
      "source": [
        "for i in range(0,80):\n",
        "  hyp = w_tokenizer.tokenize(df.iloc[i]['hyp'])\n",
        "  tgt = w_tokenizer.tokenize(df.iloc[i]['tgt'])\n",
        "\n",
        "  mutual_elements = set(hyp) & set(tgt)\n",
        "  mutual_words = len(mutual_elements)\n",
        "  df.loc[i, 'mutual words'] = mutual_words"
      ],
      "metadata": {
        "id": "Q7Cwo_AHTlDc"
      },
      "execution_count": null,
      "outputs": []
    },
    {
      "cell_type": "code",
      "source": [
        "mt_processed_df = pd.DataFrame(columns=df.columns)\n",
        "dm_processed_df = pd.DataFrame(columns=df.columns)\n",
        "pg_processed_df = pd.DataFrame(columns=df.columns)\n",
        "\n",
        "\n",
        "for index, row in df.iterrows():\n",
        "    task = row['task']\n",
        "    if task == 'MT':\n",
        "        mt_processed_df = mt_processed_df.append(row)\n",
        "    elif task == 'DM':\n",
        "        dm_processed_df = dm_processed_df.append(row)\n",
        "    elif task == 'PG':\n",
        "        pg_processed_df = pg_processed_df.append(row)\n",
        "\n",
        "\n",
        "mt_processed_df.to_json(r'mt_processed_oldindex_df.json', orient='records')\n",
        "dm_processed_df.to_json(r'dm_processed_oldindex_df.json', orient='records')\n",
        "pg_processed_df.to_json(r'pg_processed_oldindex_df.json', orient='records')\n",
        "\n",
        "# Reset the index for each new DataFrame\n",
        "mt_processed_df.reset_index(drop=True, inplace=True)\n",
        "dm_processed_df.reset_index(drop=True, inplace=True)\n",
        "pg_processed_df.reset_index(drop=True, inplace=True)"
      ],
      "metadata": {
        "colab": {
          "base_uri": "https://localhost:8080/"
        },
        "id": "fnDElLDxMyPz",
        "outputId": "19970916-22df-4ee3-820f-688627331347"
      },
      "execution_count": null,
      "outputs": [
        {
          "output_type": "stream",
          "name": "stderr",
          "text": [
            "<ipython-input-14-2e3656ab4457>:11: FutureWarning: The frame.append method is deprecated and will be removed from pandas in a future version. Use pandas.concat instead.\n",
            "  dm_processed_df = dm_processed_df.append(row)\n",
            "<ipython-input-14-2e3656ab4457>:11: FutureWarning: The frame.append method is deprecated and will be removed from pandas in a future version. Use pandas.concat instead.\n",
            "  dm_processed_df = dm_processed_df.append(row)\n",
            "<ipython-input-14-2e3656ab4457>:11: FutureWarning: The frame.append method is deprecated and will be removed from pandas in a future version. Use pandas.concat instead.\n",
            "  dm_processed_df = dm_processed_df.append(row)\n",
            "<ipython-input-14-2e3656ab4457>:11: FutureWarning: The frame.append method is deprecated and will be removed from pandas in a future version. Use pandas.concat instead.\n",
            "  dm_processed_df = dm_processed_df.append(row)\n",
            "<ipython-input-14-2e3656ab4457>:11: FutureWarning: The frame.append method is deprecated and will be removed from pandas in a future version. Use pandas.concat instead.\n",
            "  dm_processed_df = dm_processed_df.append(row)\n",
            "<ipython-input-14-2e3656ab4457>:11: FutureWarning: The frame.append method is deprecated and will be removed from pandas in a future version. Use pandas.concat instead.\n",
            "  dm_processed_df = dm_processed_df.append(row)\n",
            "<ipython-input-14-2e3656ab4457>:11: FutureWarning: The frame.append method is deprecated and will be removed from pandas in a future version. Use pandas.concat instead.\n",
            "  dm_processed_df = dm_processed_df.append(row)\n",
            "<ipython-input-14-2e3656ab4457>:11: FutureWarning: The frame.append method is deprecated and will be removed from pandas in a future version. Use pandas.concat instead.\n",
            "  dm_processed_df = dm_processed_df.append(row)\n",
            "<ipython-input-14-2e3656ab4457>:11: FutureWarning: The frame.append method is deprecated and will be removed from pandas in a future version. Use pandas.concat instead.\n",
            "  dm_processed_df = dm_processed_df.append(row)\n",
            "<ipython-input-14-2e3656ab4457>:11: FutureWarning: The frame.append method is deprecated and will be removed from pandas in a future version. Use pandas.concat instead.\n",
            "  dm_processed_df = dm_processed_df.append(row)\n",
            "<ipython-input-14-2e3656ab4457>:11: FutureWarning: The frame.append method is deprecated and will be removed from pandas in a future version. Use pandas.concat instead.\n",
            "  dm_processed_df = dm_processed_df.append(row)\n",
            "<ipython-input-14-2e3656ab4457>:11: FutureWarning: The frame.append method is deprecated and will be removed from pandas in a future version. Use pandas.concat instead.\n",
            "  dm_processed_df = dm_processed_df.append(row)\n",
            "<ipython-input-14-2e3656ab4457>:11: FutureWarning: The frame.append method is deprecated and will be removed from pandas in a future version. Use pandas.concat instead.\n",
            "  dm_processed_df = dm_processed_df.append(row)\n",
            "<ipython-input-14-2e3656ab4457>:11: FutureWarning: The frame.append method is deprecated and will be removed from pandas in a future version. Use pandas.concat instead.\n",
            "  dm_processed_df = dm_processed_df.append(row)\n",
            "<ipython-input-14-2e3656ab4457>:11: FutureWarning: The frame.append method is deprecated and will be removed from pandas in a future version. Use pandas.concat instead.\n",
            "  dm_processed_df = dm_processed_df.append(row)\n",
            "<ipython-input-14-2e3656ab4457>:11: FutureWarning: The frame.append method is deprecated and will be removed from pandas in a future version. Use pandas.concat instead.\n",
            "  dm_processed_df = dm_processed_df.append(row)\n",
            "<ipython-input-14-2e3656ab4457>:11: FutureWarning: The frame.append method is deprecated and will be removed from pandas in a future version. Use pandas.concat instead.\n",
            "  dm_processed_df = dm_processed_df.append(row)\n",
            "<ipython-input-14-2e3656ab4457>:11: FutureWarning: The frame.append method is deprecated and will be removed from pandas in a future version. Use pandas.concat instead.\n",
            "  dm_processed_df = dm_processed_df.append(row)\n",
            "<ipython-input-14-2e3656ab4457>:11: FutureWarning: The frame.append method is deprecated and will be removed from pandas in a future version. Use pandas.concat instead.\n",
            "  dm_processed_df = dm_processed_df.append(row)\n",
            "<ipython-input-14-2e3656ab4457>:11: FutureWarning: The frame.append method is deprecated and will be removed from pandas in a future version. Use pandas.concat instead.\n",
            "  dm_processed_df = dm_processed_df.append(row)\n",
            "<ipython-input-14-2e3656ab4457>:11: FutureWarning: The frame.append method is deprecated and will be removed from pandas in a future version. Use pandas.concat instead.\n",
            "  dm_processed_df = dm_processed_df.append(row)\n",
            "<ipython-input-14-2e3656ab4457>:11: FutureWarning: The frame.append method is deprecated and will be removed from pandas in a future version. Use pandas.concat instead.\n",
            "  dm_processed_df = dm_processed_df.append(row)\n",
            "<ipython-input-14-2e3656ab4457>:11: FutureWarning: The frame.append method is deprecated and will be removed from pandas in a future version. Use pandas.concat instead.\n",
            "  dm_processed_df = dm_processed_df.append(row)\n",
            "<ipython-input-14-2e3656ab4457>:11: FutureWarning: The frame.append method is deprecated and will be removed from pandas in a future version. Use pandas.concat instead.\n",
            "  dm_processed_df = dm_processed_df.append(row)\n",
            "<ipython-input-14-2e3656ab4457>:11: FutureWarning: The frame.append method is deprecated and will be removed from pandas in a future version. Use pandas.concat instead.\n",
            "  dm_processed_df = dm_processed_df.append(row)\n",
            "<ipython-input-14-2e3656ab4457>:11: FutureWarning: The frame.append method is deprecated and will be removed from pandas in a future version. Use pandas.concat instead.\n",
            "  dm_processed_df = dm_processed_df.append(row)\n",
            "<ipython-input-14-2e3656ab4457>:11: FutureWarning: The frame.append method is deprecated and will be removed from pandas in a future version. Use pandas.concat instead.\n",
            "  dm_processed_df = dm_processed_df.append(row)\n",
            "<ipython-input-14-2e3656ab4457>:11: FutureWarning: The frame.append method is deprecated and will be removed from pandas in a future version. Use pandas.concat instead.\n",
            "  dm_processed_df = dm_processed_df.append(row)\n",
            "<ipython-input-14-2e3656ab4457>:11: FutureWarning: The frame.append method is deprecated and will be removed from pandas in a future version. Use pandas.concat instead.\n",
            "  dm_processed_df = dm_processed_df.append(row)\n",
            "<ipython-input-14-2e3656ab4457>:11: FutureWarning: The frame.append method is deprecated and will be removed from pandas in a future version. Use pandas.concat instead.\n",
            "  dm_processed_df = dm_processed_df.append(row)\n",
            "<ipython-input-14-2e3656ab4457>:11: FutureWarning: The frame.append method is deprecated and will be removed from pandas in a future version. Use pandas.concat instead.\n",
            "  dm_processed_df = dm_processed_df.append(row)\n",
            "<ipython-input-14-2e3656ab4457>:11: FutureWarning: The frame.append method is deprecated and will be removed from pandas in a future version. Use pandas.concat instead.\n",
            "  dm_processed_df = dm_processed_df.append(row)\n",
            "<ipython-input-14-2e3656ab4457>:11: FutureWarning: The frame.append method is deprecated and will be removed from pandas in a future version. Use pandas.concat instead.\n",
            "  dm_processed_df = dm_processed_df.append(row)\n",
            "<ipython-input-14-2e3656ab4457>:11: FutureWarning: The frame.append method is deprecated and will be removed from pandas in a future version. Use pandas.concat instead.\n",
            "  dm_processed_df = dm_processed_df.append(row)\n",
            "<ipython-input-14-2e3656ab4457>:11: FutureWarning: The frame.append method is deprecated and will be removed from pandas in a future version. Use pandas.concat instead.\n",
            "  dm_processed_df = dm_processed_df.append(row)\n",
            "<ipython-input-14-2e3656ab4457>:11: FutureWarning: The frame.append method is deprecated and will be removed from pandas in a future version. Use pandas.concat instead.\n",
            "  dm_processed_df = dm_processed_df.append(row)\n",
            "<ipython-input-14-2e3656ab4457>:13: FutureWarning: The frame.append method is deprecated and will be removed from pandas in a future version. Use pandas.concat instead.\n",
            "  pg_processed_df = pg_processed_df.append(row)\n",
            "<ipython-input-14-2e3656ab4457>:13: FutureWarning: The frame.append method is deprecated and will be removed from pandas in a future version. Use pandas.concat instead.\n",
            "  pg_processed_df = pg_processed_df.append(row)\n",
            "<ipython-input-14-2e3656ab4457>:13: FutureWarning: The frame.append method is deprecated and will be removed from pandas in a future version. Use pandas.concat instead.\n",
            "  pg_processed_df = pg_processed_df.append(row)\n",
            "<ipython-input-14-2e3656ab4457>:13: FutureWarning: The frame.append method is deprecated and will be removed from pandas in a future version. Use pandas.concat instead.\n",
            "  pg_processed_df = pg_processed_df.append(row)\n",
            "<ipython-input-14-2e3656ab4457>:13: FutureWarning: The frame.append method is deprecated and will be removed from pandas in a future version. Use pandas.concat instead.\n",
            "  pg_processed_df = pg_processed_df.append(row)\n",
            "<ipython-input-14-2e3656ab4457>:13: FutureWarning: The frame.append method is deprecated and will be removed from pandas in a future version. Use pandas.concat instead.\n",
            "  pg_processed_df = pg_processed_df.append(row)\n",
            "<ipython-input-14-2e3656ab4457>:13: FutureWarning: The frame.append method is deprecated and will be removed from pandas in a future version. Use pandas.concat instead.\n",
            "  pg_processed_df = pg_processed_df.append(row)\n",
            "<ipython-input-14-2e3656ab4457>:13: FutureWarning: The frame.append method is deprecated and will be removed from pandas in a future version. Use pandas.concat instead.\n",
            "  pg_processed_df = pg_processed_df.append(row)\n",
            "<ipython-input-14-2e3656ab4457>:13: FutureWarning: The frame.append method is deprecated and will be removed from pandas in a future version. Use pandas.concat instead.\n",
            "  pg_processed_df = pg_processed_df.append(row)\n",
            "<ipython-input-14-2e3656ab4457>:9: FutureWarning: The frame.append method is deprecated and will be removed from pandas in a future version. Use pandas.concat instead.\n",
            "  mt_processed_df = mt_processed_df.append(row)\n",
            "<ipython-input-14-2e3656ab4457>:9: FutureWarning: The frame.append method is deprecated and will be removed from pandas in a future version. Use pandas.concat instead.\n",
            "  mt_processed_df = mt_processed_df.append(row)\n",
            "<ipython-input-14-2e3656ab4457>:9: FutureWarning: The frame.append method is deprecated and will be removed from pandas in a future version. Use pandas.concat instead.\n",
            "  mt_processed_df = mt_processed_df.append(row)\n",
            "<ipython-input-14-2e3656ab4457>:9: FutureWarning: The frame.append method is deprecated and will be removed from pandas in a future version. Use pandas.concat instead.\n",
            "  mt_processed_df = mt_processed_df.append(row)\n",
            "<ipython-input-14-2e3656ab4457>:9: FutureWarning: The frame.append method is deprecated and will be removed from pandas in a future version. Use pandas.concat instead.\n",
            "  mt_processed_df = mt_processed_df.append(row)\n",
            "<ipython-input-14-2e3656ab4457>:9: FutureWarning: The frame.append method is deprecated and will be removed from pandas in a future version. Use pandas.concat instead.\n",
            "  mt_processed_df = mt_processed_df.append(row)\n",
            "<ipython-input-14-2e3656ab4457>:9: FutureWarning: The frame.append method is deprecated and will be removed from pandas in a future version. Use pandas.concat instead.\n",
            "  mt_processed_df = mt_processed_df.append(row)\n",
            "<ipython-input-14-2e3656ab4457>:9: FutureWarning: The frame.append method is deprecated and will be removed from pandas in a future version. Use pandas.concat instead.\n",
            "  mt_processed_df = mt_processed_df.append(row)\n",
            "<ipython-input-14-2e3656ab4457>:9: FutureWarning: The frame.append method is deprecated and will be removed from pandas in a future version. Use pandas.concat instead.\n",
            "  mt_processed_df = mt_processed_df.append(row)\n",
            "<ipython-input-14-2e3656ab4457>:9: FutureWarning: The frame.append method is deprecated and will be removed from pandas in a future version. Use pandas.concat instead.\n",
            "  mt_processed_df = mt_processed_df.append(row)\n",
            "<ipython-input-14-2e3656ab4457>:9: FutureWarning: The frame.append method is deprecated and will be removed from pandas in a future version. Use pandas.concat instead.\n",
            "  mt_processed_df = mt_processed_df.append(row)\n",
            "<ipython-input-14-2e3656ab4457>:9: FutureWarning: The frame.append method is deprecated and will be removed from pandas in a future version. Use pandas.concat instead.\n",
            "  mt_processed_df = mt_processed_df.append(row)\n",
            "<ipython-input-14-2e3656ab4457>:9: FutureWarning: The frame.append method is deprecated and will be removed from pandas in a future version. Use pandas.concat instead.\n",
            "  mt_processed_df = mt_processed_df.append(row)\n",
            "<ipython-input-14-2e3656ab4457>:9: FutureWarning: The frame.append method is deprecated and will be removed from pandas in a future version. Use pandas.concat instead.\n",
            "  mt_processed_df = mt_processed_df.append(row)\n",
            "<ipython-input-14-2e3656ab4457>:9: FutureWarning: The frame.append method is deprecated and will be removed from pandas in a future version. Use pandas.concat instead.\n",
            "  mt_processed_df = mt_processed_df.append(row)\n",
            "<ipython-input-14-2e3656ab4457>:9: FutureWarning: The frame.append method is deprecated and will be removed from pandas in a future version. Use pandas.concat instead.\n",
            "  mt_processed_df = mt_processed_df.append(row)\n",
            "<ipython-input-14-2e3656ab4457>:9: FutureWarning: The frame.append method is deprecated and will be removed from pandas in a future version. Use pandas.concat instead.\n",
            "  mt_processed_df = mt_processed_df.append(row)\n",
            "<ipython-input-14-2e3656ab4457>:9: FutureWarning: The frame.append method is deprecated and will be removed from pandas in a future version. Use pandas.concat instead.\n",
            "  mt_processed_df = mt_processed_df.append(row)\n",
            "<ipython-input-14-2e3656ab4457>:9: FutureWarning: The frame.append method is deprecated and will be removed from pandas in a future version. Use pandas.concat instead.\n",
            "  mt_processed_df = mt_processed_df.append(row)\n",
            "<ipython-input-14-2e3656ab4457>:9: FutureWarning: The frame.append method is deprecated and will be removed from pandas in a future version. Use pandas.concat instead.\n",
            "  mt_processed_df = mt_processed_df.append(row)\n",
            "<ipython-input-14-2e3656ab4457>:9: FutureWarning: The frame.append method is deprecated and will be removed from pandas in a future version. Use pandas.concat instead.\n",
            "  mt_processed_df = mt_processed_df.append(row)\n",
            "<ipython-input-14-2e3656ab4457>:9: FutureWarning: The frame.append method is deprecated and will be removed from pandas in a future version. Use pandas.concat instead.\n",
            "  mt_processed_df = mt_processed_df.append(row)\n",
            "<ipython-input-14-2e3656ab4457>:9: FutureWarning: The frame.append method is deprecated and will be removed from pandas in a future version. Use pandas.concat instead.\n",
            "  mt_processed_df = mt_processed_df.append(row)\n",
            "<ipython-input-14-2e3656ab4457>:9: FutureWarning: The frame.append method is deprecated and will be removed from pandas in a future version. Use pandas.concat instead.\n",
            "  mt_processed_df = mt_processed_df.append(row)\n",
            "<ipython-input-14-2e3656ab4457>:9: FutureWarning: The frame.append method is deprecated and will be removed from pandas in a future version. Use pandas.concat instead.\n",
            "  mt_processed_df = mt_processed_df.append(row)\n",
            "<ipython-input-14-2e3656ab4457>:9: FutureWarning: The frame.append method is deprecated and will be removed from pandas in a future version. Use pandas.concat instead.\n",
            "  mt_processed_df = mt_processed_df.append(row)\n",
            "<ipython-input-14-2e3656ab4457>:9: FutureWarning: The frame.append method is deprecated and will be removed from pandas in a future version. Use pandas.concat instead.\n",
            "  mt_processed_df = mt_processed_df.append(row)\n",
            "<ipython-input-14-2e3656ab4457>:9: FutureWarning: The frame.append method is deprecated and will be removed from pandas in a future version. Use pandas.concat instead.\n",
            "  mt_processed_df = mt_processed_df.append(row)\n",
            "<ipython-input-14-2e3656ab4457>:9: FutureWarning: The frame.append method is deprecated and will be removed from pandas in a future version. Use pandas.concat instead.\n",
            "  mt_processed_df = mt_processed_df.append(row)\n",
            "<ipython-input-14-2e3656ab4457>:9: FutureWarning: The frame.append method is deprecated and will be removed from pandas in a future version. Use pandas.concat instead.\n",
            "  mt_processed_df = mt_processed_df.append(row)\n",
            "<ipython-input-14-2e3656ab4457>:9: FutureWarning: The frame.append method is deprecated and will be removed from pandas in a future version. Use pandas.concat instead.\n",
            "  mt_processed_df = mt_processed_df.append(row)\n",
            "<ipython-input-14-2e3656ab4457>:9: FutureWarning: The frame.append method is deprecated and will be removed from pandas in a future version. Use pandas.concat instead.\n",
            "  mt_processed_df = mt_processed_df.append(row)\n",
            "<ipython-input-14-2e3656ab4457>:9: FutureWarning: The frame.append method is deprecated and will be removed from pandas in a future version. Use pandas.concat instead.\n",
            "  mt_processed_df = mt_processed_df.append(row)\n",
            "<ipython-input-14-2e3656ab4457>:9: FutureWarning: The frame.append method is deprecated and will be removed from pandas in a future version. Use pandas.concat instead.\n",
            "  mt_processed_df = mt_processed_df.append(row)\n",
            "<ipython-input-14-2e3656ab4457>:9: FutureWarning: The frame.append method is deprecated and will be removed from pandas in a future version. Use pandas.concat instead.\n",
            "  mt_processed_df = mt_processed_df.append(row)\n"
          ]
        }
      ]
    },
    {
      "cell_type": "markdown",
      "source": [
        "# Export file"
      ],
      "metadata": {
        "id": "lfUz-7MoxKlh"
      }
    },
    {
      "cell_type": "code",
      "source": [
        "df.to_json(r'processed_df.json', orient='records')"
      ],
      "metadata": {
        "id": "PpmJSdPrpNls"
      },
      "execution_count": null,
      "outputs": []
    },
    {
      "cell_type": "code",
      "source": [
        "mt_processed_df.to_json(r'mt_processed_df.json', orient='records')\n",
        "dm_processed_df.to_json(r'dm_processed_df.json', orient='records')\n",
        "pg_processed_df.to_json(r'pg_processed_df.json', orient='records')"
      ],
      "metadata": {
        "id": "fTQjyrAsM0of"
      },
      "execution_count": null,
      "outputs": []
    }
  ]
}
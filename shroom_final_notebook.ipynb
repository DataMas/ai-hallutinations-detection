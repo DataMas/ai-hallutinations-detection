{
  "cells": [
    {
      "cell_type": "markdown",
      "metadata": {
        "id": "ZCwU6ThIq3_1"
      },
      "source": [
        "#Install Requirements"
      ]
    },
    {
      "cell_type": "code",
      "execution_count": 4,
      "metadata": {
        "id": "bpGHF-zcqoJb"
      },
      "outputs": [],
      "source": [
        "!pip install sentence_transformers"
      ]
    },
    {
      "cell_type": "code",
      "execution_count": 5,
      "metadata": {
        "id": "FAXsfiscqqgN"
      },
      "outputs": [],
      "source": [
        "!pip install spacy"
      ]
    },
    {
      "cell_type": "code",
      "source": [
        "!pip install xgboost"
      ],
      "metadata": {
        "id": "qG3cgiXs9F9u"
      },
      "execution_count": null,
      "outputs": []
    },
    {
      "cell_type": "code",
      "execution_count": 6,
      "metadata": {
        "id": "iFJy0UwYfBaX"
      },
      "outputs": [],
      "source": [
        "!python -m spacy download en_core_web_sm"
      ]
    },
    {
      "cell_type": "code",
      "execution_count": null,
      "metadata": {
        "id": "onawTaMCfD_3"
      },
      "outputs": [],
      "source": [
        "import spacy\n",
        "nlp_en = spacy.load(\"en_core_web_sm\")"
      ]
    },
    {
      "cell_type": "code",
      "execution_count": 10,
      "metadata": {
        "id": "l36HbkU98X_i"
      },
      "outputs": [],
      "source": [
        "import sentence_transformers\n",
        "from sentence_transformers import SentenceTransformer\n",
        "import pandas as pd\n",
        "import numpy as np\n",
        "from tqdm.auto import tqdm, trange\n",
        "from sklearn.cluster import KMeans\n",
        "import json\n",
        "import re\n",
        "from collections import Counter\n",
        "import tqdm\n",
        "import matplotlib.pyplot as plt"
      ]
    },
    {
      "cell_type": "markdown",
      "metadata": {
        "id": "nM6u4DWkrAKX"
      },
      "source": [
        "# Load Model\n"
      ]
    },
    {
      "cell_type": "code",
      "execution_count": null,
      "metadata": {
        "id": "GcIVY1my8ZUW"
      },
      "outputs": [],
      "source": [
        "t5 = SentenceTransformer('sentence-transformers/sentence-t5-base')\n",
        "labse = SentenceTransformer('sentence-transformers/labse')\n",
        "distiluse = SentenceTransformer('distiluse-base-multilingual-cased-v2')"
      ]
    },
    {
      "cell_type": "code",
      "execution_count": null,
      "metadata": {
        "id": "U4WfIkYfJ8Td"
      },
      "outputs": [],
      "source": [
        "model = t5"
      ]
    },
    {
      "cell_type": "markdown",
      "metadata": {
        "id": "K7e0fOmd8a23"
      },
      "source": [
        "## Import the datasets\n"
      ]
    },
    {
      "cell_type": "code",
      "execution_count": 11,
      "metadata": {
        "colab": {
          "base_uri": "https://localhost:8080/"
        },
        "id": "6pmvrW9u7m_Z",
        "outputId": "cffd3173-232b-495a-d7fc-266c2d786a72"
      },
      "outputs": [
        {
          "output_type": "stream",
          "name": "stdout",
          "text": [
            "(3415, 10)\n"
          ]
        }
      ],
      "source": [
        "file_path = \".../guerreiro2022_corpus_w_annotations.csv\"\n",
        "\n",
        "guerreiro_df = pd.read_csv(file_path)\n",
        "\n",
        "print(guerreiro_df.shape)"
      ]
    },
    {
      "cell_type": "code",
      "execution_count": 12,
      "metadata": {
        "id": "XHBvUtza9SoH",
        "colab": {
          "base_uri": "https://localhost:8080/"
        },
        "outputId": "9c0d37ad-432f-438c-eee5-d14ea969bfce"
      },
      "outputs": [
        {
          "output_type": "execute_result",
          "data": {
            "text/plain": [
              "(30000, 6)"
            ]
          },
          "metadata": {},
          "execution_count": 12
        }
      ],
      "source": [
        "with open(\"train.model-aware.v2.json\", \"r\") as f:\n",
        "    data = json.load(f)\n",
        "\n",
        "train_df_aware = pd.json_normalize(data)\n",
        "train_df_aware.shape"
      ]
    },
    {
      "cell_type": "code",
      "execution_count": null,
      "metadata": {
        "id": "dUs9dCPIO0q9",
        "outputId": "da7297e7-5852-4e0f-ef0e-cf47ce576aac"
      },
      "outputs": [
        {
          "data": {
            "text/plain": [
              "(30000, 6)"
            ]
          },
          "execution_count": 371,
          "metadata": {},
          "output_type": "execute_result"
        }
      ],
      "source": [
        "with open(\"train.model-agnostic.json\", \"r\") as f:\n",
        "    data = json.load(f)\n",
        "\n",
        "train_df_agnostic = pd.json_normalize(data)\n",
        "train_df_agnostic.shape"
      ]
    },
    {
      "cell_type": "code",
      "execution_count": null,
      "metadata": {
        "id": "M_5CClmeIVzx",
        "outputId": "6cfe0daa-ebf2-469e-9d07-1f58d3c6aa5c"
      },
      "outputs": [
        {
          "data": {
            "text/plain": [
              "(1500, 6)"
            ]
          },
          "execution_count": 373,
          "metadata": {},
          "output_type": "execute_result"
        }
      ],
      "source": [
        "with open(\"test.model-aware.json\", \"r\") as f:\n",
        "    data = json.load(f)\n",
        "\n",
        "test_df_aware = pd.json_normalize(data)\n",
        "test_df_aware.shape"
      ]
    },
    {
      "cell_type": "code",
      "execution_count": null,
      "metadata": {
        "id": "yaG-V2FaO44D",
        "outputId": "69ee4a80-c2ff-4b3c-82aa-71b881379ead"
      },
      "outputs": [
        {
          "data": {
            "text/plain": [
              "(1500, 5)"
            ]
          },
          "execution_count": 374,
          "metadata": {},
          "output_type": "execute_result"
        }
      ],
      "source": [
        "with open(\"test.model-agnostic.json\", \"r\") as f:\n",
        "    data = json.load(f)\n",
        "\n",
        "test_df_agnostic = pd.json_normalize(data)\n",
        "test_df_agnostic.shape"
      ]
    },
    {
      "cell_type": "code",
      "execution_count": null,
      "metadata": {
        "id": "9WzkHrCbqbsF",
        "outputId": "edb58f0a-7adc-41fd-8d84-9701448abebe"
      },
      "outputs": [
        {
          "data": {
            "text/plain": [
              "(501, 9)"
            ]
          },
          "execution_count": 375,
          "metadata": {},
          "output_type": "execute_result"
        }
      ],
      "source": [
        "with open(\"val.model-aware.json\", \"r\") as f:\n",
        "    data = json.load(f)\n",
        "\n",
        "val_df_aware = pd.json_normalize(data)\n",
        "val_df_aware.shape\n"
      ]
    },
    {
      "cell_type": "code",
      "execution_count": null,
      "metadata": {
        "id": "sGwJFXNSqbsF",
        "outputId": "59e10515-e904-4273-c6ca-76cdff74ca6c"
      },
      "outputs": [
        {
          "data": {
            "text/plain": [
              "(499, 9)"
            ]
          },
          "execution_count": 376,
          "metadata": {},
          "output_type": "execute_result"
        }
      ],
      "source": [
        "with open(\"val.model-agnostic.json\", \"r\") as f:\n",
        "    data = json.load(f)\n",
        "\n",
        "val_df_agnostic = pd.json_normalize(data)\n",
        "val_df_agnostic.shape"
      ]
    },
    {
      "cell_type": "code",
      "execution_count": 13,
      "metadata": {
        "id": "Hrg9d3767m_X"
      },
      "outputs": [],
      "source": [
        "def model_recognition(df):\n",
        "    model_column = 'model'\n",
        "\n",
        "    plt.figure(figsize=(10, 8))\n",
        "    ax = df[model_column].value_counts().plot(kind='bar', color='skyblue', width=0.6)\n",
        "\n",
        "    for p in ax.patches:\n",
        "        ax.annotate(f'{p.get_height()}', (p.get_x() + p.get_width() / 2., p.get_height()),\n",
        "                    ha='center', va='center', xytext=(0, 10), textcoords='offset points', fontsize=18)\n",
        "\n",
        "    plt.title('Distribution of Models in Test Set', fontsize=20)\n",
        "    plt.xlabel('Models', fontsize=18)\n",
        "    plt.ylabel('Count', fontsize=18)\n",
        "    plt.xticks(rotation=25, ha='right', fontsize=18)\n",
        "    plt.yticks(fontsize=20)\n",
        "    plt.show()"
      ]
    },
    {
      "cell_type": "code",
      "source": [
        "model_recognition(train_df_aware)"
      ],
      "metadata": {
        "colab": {
          "base_uri": "https://localhost:8080/",
          "height": 917
        },
        "id": "eUmk0jvs76sq",
        "outputId": "ed32bf1f-15d1-4dd8-f26c-9ef1cf7ee4b2"
      },
      "execution_count": 14,
      "outputs": [
        {
          "output_type": "display_data",
          "data": {
            "text/plain": [
              "<Figure size 1000x800 with 1 Axes>"
            ],
            "image/png": "[encoded data removed]"
          },
          "metadata": {}
        }
      ]
    },
    {
      "cell_type": "markdown",
      "metadata": {
        "id": "qLAPNEBdrH7I"
      },
      "source": [
        "# Text Preprocessing"
      ]
    },
    {
      "cell_type": "code",
      "execution_count": null,
      "metadata": {
        "id": "NMXpKoqGehSh"
      },
      "outputs": [],
      "source": [
        "def extract_word(text):\n",
        "    match = re.search(r'< define >(.*?)< /define >', text)\n",
        "    return match.group(1) if match else None"
      ]
    },
    {
      "cell_type": "code",
      "execution_count": null,
      "metadata": {
        "id": "K4hDgH9VekoH"
      },
      "outputs": [],
      "source": [
        "ar = nlp_en.get_pipe('attribute_ruler')\n",
        "\n",
        "ar.add([[{\"TEXT\":\"'ve\"}]],{\"LEMMA\":\"have\"})\n",
        "ar.add([[{\"TEXT\":\"'m\"}]],{\"LEMMA\":\"be\"})\n",
        "ar.add([[{\"TEXT\":\"n't\"}]],{\"LEMMA\":\"not\"})\n",
        "ar.add([[{\"TEXT\":\"'ll\"}]],{\"LEMMA\":\"will\"})\n",
        "ar.add([[{\"TEXT\":\"'re\"}]],{\"LEMMA\":\"be\"})"
      ]
    },
    {
      "cell_type": "code",
      "execution_count": null,
      "metadata": {
        "id": "f7LqedJ6eo2g"
      },
      "outputs": [],
      "source": [
        "def preprocess(original_df):\n",
        "\n",
        "  df = original_df\n",
        "\n",
        "  df['context'] = \"\"\n",
        "  df['word_to_define'] = \"\"\n",
        "\n",
        "  for i in tqdm.trange(len(df)):\n",
        "\n",
        "    df.at[i, 'hyp'] = \" \".join(token.lemma_ for token in nlp_en(df.iloc[i]['hyp']) if not token.is_punct)\n",
        "    df.at[i, 'tgt'] = \" \".join(token.lemma_ for token in nlp_en(df.iloc[i]['tgt']) if not token.is_punct)\n",
        "    if pd.isna(df.at[i, 'src']):\n",
        "      df.at[i, 'src'] = ''\n",
        "    else:\n",
        "      df.at[i, 'src'] = \" \".join(token.lemma_ for token in nlp_en(df.iloc[i]['src']) if not token.is_punct)\n",
        "\n",
        "\n",
        "    hyp = nlp_en(df.at[i, 'hyp'])\n",
        "    tgt = nlp_en(df.at[i, 'tgt'])\n",
        "    src = nlp_en(df.at[i, 'src'])\n",
        "\n",
        "    if df.at[i, 'task'] == 'DM':\n",
        "      df.at[i, 'word_to_define'] = extract_word(df.at[i, 'src'])\n",
        "    else:\n",
        "      df.at[i, 'word_to_define'] = '-'\n",
        "\n",
        "    hyp_tokens = [token.text for token in hyp]\n",
        "    tgt_tokens = [token.text for token in tgt]\n",
        "\n",
        "    if 'model' in df.columns:\n",
        "      df = pd.get_dummies(df, columns=['model'], prefix='model')\n",
        "      model_columns = [col for col in df.columns if col.startswith('model_')]\n",
        "      df[model_columns] = df[model_columns].astype(int)\n",
        "\n",
        "    intersection = dict(Counter(hyp_tokens) & Counter(tgt_tokens))\n",
        "    mutual_words = list(intersection.keys())\n",
        "\n",
        "    df.at[i, 'num_of_common'] = len(mutual_words)\n",
        "\n",
        "    if df.at[i, 'task'] == 'PG':\n",
        "      df.at[i, 'context'] = df.at[i, 'src']\n",
        "    else:\n",
        "      df.at[i, 'context'] = df.at[i, 'tgt']\n",
        "\n",
        "  return df\n"
      ]
    },
    {
      "cell_type": "markdown",
      "source": [
        "preprocess_2 for Guerreiro Dataset"
      ],
      "metadata": {
        "id": "U39nAez18J5m"
      }
    },
    {
      "cell_type": "code",
      "execution_count": null,
      "metadata": {
        "id": "o2qe4YV97m_e"
      },
      "outputs": [],
      "source": [
        "def preprocess_2(original_df):\n",
        "\n",
        "  df = original_df\n",
        "\n",
        "\n",
        "  for i in tqdm.trange(len(df)):\n",
        "\n",
        "    df.at[i, 'mt'] = \" \".join(token.lemma_ for token in nlp_en(df.iloc[i]['mt']) if not token.is_punct)\n",
        "    df.at[i, 'ref'] = \" \".join(token.lemma_ for token in nlp_en(df.iloc[i]['ref']) if not token.is_punct)\n",
        "\n",
        "\n",
        "    mt = nlp_en(df.at[i, 'mt'])\n",
        "    ref = nlp_en(df.at[i, 'ref'])\n",
        "\n",
        "  return df\n"
      ]
    },
    {
      "cell_type": "code",
      "execution_count": null,
      "metadata": {
        "id": "1V8s54ZI7m_f",
        "outputId": "8abd9ef1-831c-4ff7-cd47-9323e209adf5"
      },
      "outputs": [
        {
          "name": "stderr",
          "output_type": "stream",
          "text": [
            "100%|██████████| 3415/3415 [02:23<00:00, 23.85it/s]\n"
          ]
        }
      ],
      "source": [
        "guerreiro_df_processed = preprocess_2(guerreiro_df)"
      ]
    },
    {
      "cell_type": "code",
      "execution_count": null,
      "metadata": {
        "id": "oDk1pOaoqbsG",
        "outputId": "3b3ed1d2-b6d1-4545-dd70-e4440a0a5772"
      },
      "outputs": [
        {
          "name": "stderr",
          "output_type": "stream",
          "text": [
            "100%|██████████| 501/501 [00:30<00:00, 16.49it/s]\n"
          ]
        }
      ],
      "source": [
        "val_df_aware_processed = preprocess(val_df_aware)"
      ]
    },
    {
      "cell_type": "code",
      "execution_count": null,
      "metadata": {
        "id": "6WYbz7rtqbsH",
        "outputId": "1d8daecd-fcab-405c-9fe9-0545348e0a4c"
      },
      "outputs": [
        {
          "name": "stderr",
          "output_type": "stream",
          "text": [
            "100%|██████████| 499/499 [00:28<00:00, 17.22it/s]\n"
          ]
        }
      ],
      "source": [
        "val_df_agnostic_processed = preprocess(val_df_agnostic)"
      ]
    },
    {
      "cell_type": "code",
      "execution_count": null,
      "metadata": {
        "colab": {
          "base_uri": "https://localhost:8080/"
        },
        "id": "wlpUEF0zfpnJ",
        "outputId": "e78ff44e-2a8f-467a-f2e1-dc3731c55c2f"
      },
      "outputs": [
        {
          "name": "stderr",
          "output_type": "stream",
          "text": [
            "100%|██████████| 1500/1500 [01:28<00:00, 17.01it/s]\n"
          ]
        }
      ],
      "source": [
        "test_df_aware_processed = preprocess(test_df_aware)"
      ]
    },
    {
      "cell_type": "code",
      "execution_count": null,
      "metadata": {
        "colab": {
          "base_uri": "https://localhost:8080/"
        },
        "id": "1gp087wWPIGo",
        "outputId": "7e65b5f9-aed6-40e4-d9db-c05a675cd32d"
      },
      "outputs": [
        {
          "name": "stderr",
          "output_type": "stream",
          "text": [
            "100%|██████████| 1500/1500 [02:28<00:00, 10.13it/s]\n"
          ]
        }
      ],
      "source": [
        "test_df_agnostic_processed = preprocess(test_df_agnostic)"
      ]
    },
    {
      "cell_type": "code",
      "execution_count": null,
      "metadata": {
        "colab": {
          "base_uri": "https://localhost:8080/"
        },
        "id": "FbvUjhXuwAXv",
        "outputId": "4a71ab80-02e9-4ac3-f263-9c2bed430ac6"
      },
      "outputs": [
        {
          "name": "stderr",
          "output_type": "stream",
          "text": [
            "  0%|          | 0/30000 [00:00<?, ?it/s]"
          ]
        },
        {
          "name": "stderr",
          "output_type": "stream",
          "text": [
            "100%|██████████| 30000/30000 [30:39<00:00, 16.31it/s] \n"
          ]
        }
      ],
      "source": [
        "train_df_aware_processed = preprocess(train_df_aware)"
      ]
    },
    {
      "cell_type": "code",
      "execution_count": null,
      "metadata": {
        "colab": {
          "base_uri": "https://localhost:8080/"
        },
        "id": "MFUL7v8lPLOi",
        "outputId": "b56e3908-2d74-4580-af7a-8d92bb43d79e"
      },
      "outputs": [
        {
          "name": "stderr",
          "output_type": "stream",
          "text": [
            "100%|██████████| 30000/30000 [26:21<00:00, 18.97it/s] \n"
          ]
        }
      ],
      "source": [
        "train_df_agnostic_processed = preprocess(train_df_agnostic)"
      ]
    },
    {
      "cell_type": "markdown",
      "metadata": {
        "id": "LVZU4rZgrPCW"
      },
      "source": [
        "# Extract Embeddings"
      ]
    },
    {
      "cell_type": "code",
      "execution_count": null,
      "metadata": {
        "id": "o-z5j67iMb53"
      },
      "outputs": [],
      "source": [
        "import pickle\n",
        "\n",
        "def get_embeddings(df, save_path):\n",
        "    new_df = df\n",
        "\n",
        "    if 'hyp' in df.columns:\n",
        "        emb_hyp = model.encode(df.hyp.tolist(), show_progress_bar=True)\n",
        "        emb_con = model.encode(df.context.tolist(), show_progress_bar=True)\n",
        "        sims = (emb_con * emb_hyp).sum(1)\n",
        "\n",
        "        embeddings_dict = {\n",
        "        \"emb_hyp\": emb_hyp,\n",
        "        \"emb_con\": emb_con,\n",
        "        \"sims\": sims.tolist()\n",
        "        }\n",
        "    elif 'mt' in df.columns:\n",
        "        emb_mt = model.encode(df.mt.tolist(), show_progress_bar=True)\n",
        "        emb_ref = model.encode(df.ref.tolist(), show_progress_bar=True)\n",
        "        sims = (emb_ref * emb_mt).sum(1)\n",
        "\n",
        "        embeddings_dict = {\n",
        "        \"emb_mt\": emb_mt,\n",
        "        \"emb_ref\": emb_ref,\n",
        "        \"sims\": sims.tolist()\n",
        "        }\n",
        "\n",
        "    new_df[\"full_prob\"] = 1 - sims\n",
        "    new_df[\"sims\"] = sims\n",
        "\n",
        "    with open(save_path, \"wb\") as f:\n",
        "        pickle.dump(embeddings_dict, f)\n",
        "\n",
        "    return new_df\n"
      ]
    },
    {
      "cell_type": "code",
      "execution_count": null,
      "metadata": {
        "id": "1ANoFh3D7m_i",
        "outputId": "3a409d4d-6169-49f1-d1f0-f434dd2f234f"
      },
      "outputs": [
        {
          "name": "stderr",
          "output_type": "stream",
          "text": [
            "Batches:   0%|          | 0/107 [00:00<?, ?it/s]"
          ]
        },
        {
          "name": "stderr",
          "output_type": "stream",
          "text": [
            "Batches: 100%|██████████| 107/107 [03:48<00:00,  2.14s/it]\n",
            "Batches: 100%|██████████| 107/107 [02:46<00:00,  1.56s/it]\n"
          ]
        }
      ],
      "source": [
        "guerreiro_df = get_embeddings(guerreiro_df_processed,'embeddings-guerreiro.pkl')"
      ]
    },
    {
      "cell_type": "code",
      "execution_count": null,
      "metadata": {
        "colab": {
          "base_uri": "https://localhost:8080/",
          "height": 181
        },
        "id": "nVLZQcbXNV3y",
        "outputId": "ecc32201-d122-4a76-9420-e886f4e27006"
      },
      "outputs": [
        {
          "name": "stderr",
          "output_type": "stream",
          "text": [
            "Batches: 100%|██████████| 938/938 [30:58<00:00,  1.98s/it] \n",
            "Batches: 100%|██████████| 938/938 [27:29<00:00,  1.76s/it] \n"
          ]
        }
      ],
      "source": [
        "train_df_aware = get_embeddings(train_df_aware_processed,\"embeddings-train-aware.pkl\")"
      ]
    },
    {
      "cell_type": "code",
      "execution_count": null,
      "metadata": {
        "id": "hlGqCxeuPlOH",
        "outputId": "3f67ac47-cff2-4c98-fcda-23ae023db34e"
      },
      "outputs": [
        {
          "name": "stderr",
          "output_type": "stream",
          "text": [
            "Batches: 100%|██████████| 938/938 [14:55<00:00,  1.05it/s]\n",
            "Batches: 100%|██████████| 938/938 [15:57<00:00,  1.02s/it] \n"
          ]
        }
      ],
      "source": [
        "train_df_agnostic = get_embeddings(train_df_agnostic_processed,\"embeddings-train-agnostic.pkl\")"
      ]
    },
    {
      "cell_type": "code",
      "execution_count": null,
      "metadata": {
        "id": "IMd_efAHX3OZ",
        "outputId": "42b5f2fa-bfbc-4c9f-873a-9f7da6a18324"
      },
      "outputs": [
        {
          "name": "stderr",
          "output_type": "stream",
          "text": [
            "Batches:   0%|          | 0/47 [00:00<?, ?it/s]"
          ]
        },
        {
          "name": "stderr",
          "output_type": "stream",
          "text": [
            "Batches: 100%|██████████| 47/47 [01:19<00:00,  1.69s/it]\n",
            "Batches: 100%|██████████| 47/47 [01:24<00:00,  1.80s/it]\n"
          ]
        }
      ],
      "source": [
        "test_df_aware = get_embeddings(test_df_aware_processed,\"embeddings-test-aware.pkl\")"
      ]
    },
    {
      "cell_type": "code",
      "execution_count": null,
      "metadata": {
        "id": "mmxGkU3nPqMc",
        "outputId": "03488cbd-27df-4188-94ec-d943d85b0646"
      },
      "outputs": [
        {
          "name": "stderr",
          "output_type": "stream",
          "text": [
            "Batches:   0%|          | 0/47 [00:00<?, ?it/s]"
          ]
        },
        {
          "name": "stderr",
          "output_type": "stream",
          "text": [
            "Batches: 100%|██████████| 47/47 [00:52<00:00,  1.11s/it]\n",
            "Batches: 100%|██████████| 47/47 [01:00<00:00,  1.29s/it]\n"
          ]
        }
      ],
      "source": [
        "test_df_agnostic = get_embeddings(test_df_agnostic_processed,\"embeddings-test-agnostic.pkl\")"
      ]
    },
    {
      "cell_type": "code",
      "execution_count": null,
      "metadata": {
        "id": "4EBbIvVTqbsM",
        "outputId": "cca1ff28-8dc8-4b81-c006-0aea90f8d369"
      },
      "outputs": [
        {
          "name": "stderr",
          "output_type": "stream",
          "text": [
            "Batches:   0%|          | 0/16 [00:00<?, ?it/s]"
          ]
        },
        {
          "name": "stderr",
          "output_type": "stream",
          "text": [
            "Batches: 100%|██████████| 16/16 [00:23<00:00,  1.45s/it]\n",
            "Batches: 100%|██████████| 16/16 [00:26<00:00,  1.67s/it]\n"
          ]
        }
      ],
      "source": [
        "val_df_agnostic = get_embeddings(val_df_agnostic_processed,\"embeddings-val-agnostic.pkl\")"
      ]
    },
    {
      "cell_type": "code",
      "execution_count": null,
      "metadata": {
        "id": "41QBYFY2qbsM",
        "outputId": "8bd40069-9f33-4a06-a7ad-5703398f5e90"
      },
      "outputs": [
        {
          "name": "stderr",
          "output_type": "stream",
          "text": [
            "Batches:   0%|          | 0/16 [00:00<?, ?it/s]"
          ]
        },
        {
          "name": "stderr",
          "output_type": "stream",
          "text": [
            "Batches: 100%|██████████| 16/16 [00:29<00:00,  1.87s/it]\n",
            "Batches: 100%|██████████| 16/16 [00:30<00:00,  1.90s/it]\n"
          ]
        }
      ],
      "source": [
        "val_df_aware = get_embeddings(val_df_aware_processed,\"embeddings-val-aware.pkl\")"
      ]
    },
    {
      "cell_type": "markdown",
      "metadata": {
        "id": "H3Hqm0wLrW4J"
      },
      "source": [
        "# Clustering to get labels\n",
        "if not given (as in val set)"
      ]
    },
    {
      "cell_type": "code",
      "execution_count": null,
      "metadata": {
        "id": "i4Qq6GDtPX_T"
      },
      "outputs": [],
      "source": [
        "def get_labels(df):\n",
        "  model_columns = [col for col in df.columns if col.startswith('model_')]\n",
        "\n",
        "  if model_columns:\n",
        "    selected_features = ['sims', 'full_prob'] + model_columns\n",
        "  else:\n",
        "    selected_features = ['sims', 'full_prob']\n",
        "\n",
        "\n",
        "  data = df[selected_features]\n",
        "\n",
        "  k = 2\n",
        "\n",
        "  kmeans = KMeans(n_clusters=k, random_state=42)\n",
        "  df['hallucination'] = kmeans.fit_predict(data)\n",
        "\n",
        "\n",
        "  print(df['hallucination'].value_counts())\n",
        "\n",
        "  return df"
      ]
    },
    {
      "cell_type": "code",
      "execution_count": null,
      "metadata": {
        "id": "mAa__zvW7m_5"
      },
      "outputs": [],
      "source": [
        "def load_embeddings(file_path):\n",
        "    with open(file_path, \"rb\") as f:\n",
        "        embeddings_dict = pickle.load(f)\n",
        "\n",
        "\n",
        "    if 'emb_hyp' in embeddings_dict:\n",
        "        loaded_df = pd.DataFrame({\n",
        "        \"hyp\": [\"\"] * len(embeddings_dict[\"emb_hyp\"]),\n",
        "        \"context\": [\"\"] * len(embeddings_dict[\"emb_con\"]),\n",
        "        \"full_prob\": [1 - sim for sim in embeddings_dict[\"sims\"]],\n",
        "        \"sims\": embeddings_dict[\"sims\"]\n",
        "        })\n",
        "    else:\n",
        "        loaded_df = pd.DataFrame({\n",
        "            \"mt\": [\"\"] * len(embeddings_dict[\"emb_mt\"]),\n",
        "            \"ref\": [\"\"] * len(embeddings_dict[\"emb_ref\"]),\n",
        "            \"full_prob\": [1 - sim for sim in embeddings_dict[\"sims\"]],\n",
        "            \"sims\": embeddings_dict[\"sims\"]\n",
        "        })\n",
        "\n",
        "\n",
        "    return loaded_df\n"
      ]
    },
    {
      "cell_type": "code",
      "source": [
        "guerreiro_df = load_embeddings(r\"...\\embeddings-guerreiro.pkl\")\n",
        "train_df_agnostic = load_embeddings(r\"...\\embeddings-train-agnostic.pkl\")\n",
        "train_df_aware = load_embeddings(r\"...\\embeddings-train-aware.pkl\")\n",
        "test_df_agnostic = load_embeddings(r\"...\\embeddings-test-agnostic.pkl\")\n",
        "test_df_aware = load_embeddings(r\"...\\embeddings-test-aware.pkl\")\n",
        "val_df_agnostic = load_embeddings(r\"...\\embeddings-val-agnostic.pkl\")\n",
        "val_df_aware = load_embeddings(r\"...\\embeddings-val-aware.pkl\")"
      ],
      "metadata": {
        "id": "I7WaTfyW87WG"
      },
      "execution_count": null,
      "outputs": []
    },
    {
      "cell_type": "code",
      "execution_count": 3,
      "metadata": {
        "id": "-mX8xndR7m_5"
      },
      "outputs": [],
      "source": [
        "train_df_agnostic = get_labels(train_df_agnostic)\n",
        "train_df_aware = get_labels(train_df_aware)"
      ]
    },
    {
      "cell_type": "markdown",
      "metadata": {
        "id": "s_U56ktYrgfE"
      },
      "source": [
        "Binary encoding of labels in labeled set (val)"
      ]
    },
    {
      "cell_type": "code",
      "execution_count": null,
      "metadata": {
        "id": "ClphKk3iqbsN"
      },
      "outputs": [],
      "source": [
        "val_df_aware['hallucination'] = np.where(val_df_aware['label'] == 'Hallucination', 1, 0)\n",
        "val_df_agnostic['hallucination'] = np.where(val_df_agnostic['label'] == 'Hallucination', 1, 0)"
      ]
    },
    {
      "cell_type": "markdown",
      "metadata": {
        "id": "fzr8X8S2r1dv"
      },
      "source": [
        "# Make Predictions (using classifiers)"
      ]
    },
    {
      "cell_type": "code",
      "execution_count": null,
      "metadata": {
        "id": "4VMVk95MRA0U"
      },
      "outputs": [],
      "source": [
        "from sklearn.ensemble import VotingClassifier\n",
        "from sklearn.linear_model import LogisticRegression\n",
        "from sklearn.ensemble import RandomForestClassifier, GradientBoostingClassifier, VotingClassifier\n",
        "from sklearn.neighbors import KNeighborsClassifier\n",
        "from sklearn.tree import DecisionTreeClassifier\n",
        "import xgboost"
      ]
    },
    {
      "cell_type": "code",
      "execution_count": null,
      "metadata": {
        "id": "RS-aqSFwQxKp"
      },
      "outputs": [],
      "source": [
        "def get_predictions(df_train, df_test):\n",
        "  if 'hallucination' in df_train.columns:\n",
        "    y_train = df_train['hallucination']\n",
        "  elif 'correctness' in df_train.columns:\n",
        "    y_train = df_train['correctness']\n",
        "\n",
        "  x_train = df_train[['sims', 'full_prob']]\n",
        "\n",
        "  x_test = df_test[['sims', 'full_prob']]\n",
        "\n",
        "  y_test = None\n",
        "\n",
        "  # 1) logistic regression =lr\n",
        "  lr=LogisticRegression(max_iter=5000)\n",
        "  # 2) random forest =rf\n",
        "  rf = RandomForestClassifier(n_estimators=30,max_depth=3)\n",
        "  # 3) GradientBoostingClassifier = gbc\n",
        "  gbc = GradientBoostingClassifier(n_estimators=100)\n",
        "  # 4) KNearestNeighbours = knn\n",
        "  knn = KNeighborsClassifier(algorithm = 'brute', n_jobs=-1)\n",
        "  # 5) DecisionTree = dt\n",
        "  dt = DecisionTreeClassifier(min_samples_split=10,max_depth=3)\n",
        "  # 6) XGBoost = xgb\n",
        "  xgb = xgboost.XGBClassifier()\n",
        "\n",
        "  evc=VotingClassifier(estimators=[('lr',lr),('rf',rf),('gbc',gbc),('knn',knn),('dt',dt),('xgb',xgb)])\n",
        "\n",
        "  evc.fit(x_train, y_train)\n",
        "\n",
        "  y_test = evc.predict(x_test)\n",
        "\n",
        "  df_test[\"hallucination_pred\"] = y_test\n",
        "\n",
        "  return df_test\n"
      ]
    },
    {
      "cell_type": "markdown",
      "source": [
        "Add ids to loaded datasets from pickle files"
      ],
      "metadata": {
        "id": "bggdaEDM9jcY"
      }
    },
    {
      "cell_type": "code",
      "source": [
        "test_df_agnostic_pred['id'] =  test_df_agnostic_processed['id']\n",
        "test_df_aware_pred['id'] =  test_df_aware_processed['id']\n",
        "test_df_agnostic_pred_labeled['id'] = test_df_agnostic_processed['id']\n",
        "test_df_aware_pred_labeled['id'] = test_df_aware_processed['id']\n",
        "guerreiro_df['correctness'] = guerreiro_df_processed['correctness']\n",
        "guerreiro_df['id'] = guerreiro_df_processed['Unnamed: 0']"
      ],
      "metadata": {
        "id": "I6Vh5M8a9cld"
      },
      "execution_count": null,
      "outputs": []
    },
    {
      "cell_type": "markdown",
      "metadata": {
        "id": "GwnFkuyhsNbo"
      },
      "source": [
        "Different approaches (labeled/unlabeled training sets)"
      ]
    },
    {
      "cell_type": "code",
      "execution_count": null,
      "metadata": {
        "id": "37dPdX9pqbsO"
      },
      "outputs": [],
      "source": [
        "#labeled\n",
        "test_df_aware_pred_labeled = get_predictions(guerreiro_df, test_df_aware)\n",
        "test_df_agnostic_pred_labeled = get_predictions(guerreiro_df, test_df_agnostic)"
      ]
    },
    {
      "cell_type": "code",
      "execution_count": null,
      "metadata": {
        "id": "_PPNF4JoRSAX"
      },
      "outputs": [],
      "source": [
        "#unlabeled\n",
        "test_df_aware_pred = get_predictions(train_df_aware, test_df_aware)\n",
        "test_df_agnostic_pred = get_predictions(train_df_agnostic, test_df_agnostic)"
      ]
    },
    {
      "cell_type": "markdown",
      "metadata": {
        "id": "1c8CKC7PsDLY"
      },
      "source": [
        "# Write output files"
      ]
    },
    {
      "cell_type": "code",
      "execution_count": null,
      "metadata": {
        "id": "gzrPfNm4QVHw"
      },
      "outputs": [],
      "source": [
        "def write_output(test_df, output_filename):\n",
        "    result_list = []\n",
        "\n",
        "    for _, row in test_df.iterrows():\n",
        "        current_id = row[\"id\"]\n",
        "\n",
        "        if row[\"hallucination\"] == 1:\n",
        "            label = 'Hallucination'\n",
        "            probability = row[\"sims\"]\n",
        "        else:\n",
        "            label = 'Not Hallucination'\n",
        "            probability = 1 - row[\"sims\"]\n",
        "\n",
        "        result_dict = {\"label\": label, \"p(Hallucination)\": probability,\"id\": current_id}\n",
        "        result_list.append(result_dict)\n",
        "\n",
        "    with open(output_filename, \"w\") as json_file:\n",
        "        json.dump(result_list, json_file)\n",
        "\n",
        "    print(f\"Results written to {output_filename}\")\n"
      ]
    },
    {
      "cell_type": "code",
      "execution_count": 1,
      "metadata": {
        "id": "h-WJZ_lt7m__"
      },
      "outputs": [],
      "source": [
        "write_output(test_df_aware_pred_labeled, 'test.model-aware-labeled.json')\n",
        "write_output(test_df_agnostic_pred_labeled, 'test.model-agnostic-labeled.json')"
      ]
    },
    {
      "cell_type": "code",
      "execution_count": 2,
      "metadata": {
        "id": "RuxcorK3qbsg"
      },
      "outputs": [],
      "source": [
        "write_output(test_df_aware_pred, 'test.model-aware.json')\n",
        "write_output(test_df_agnostic_pred, 'test.model-agnostic.json')"
      ]
    }
  ],
  "metadata": {
    "colab": {
      "provenance": []
    },
    "kernelspec": {
      "display_name": "Python 3",
      "name": "python3"
    },
    "language_info": {
      "codemirror_mode": {
        "name": "ipython",
        "version": 3
      },
      "file_extension": ".py",
      "mimetype": "text/x-python",
      "name": "python",
      "nbconvert_exporter": "python",
      "pygments_lexer": "ipython3",
      "version": "3.9.2"
    }
  },
  "nbformat": 4,
  "nbformat_minor": 0
}
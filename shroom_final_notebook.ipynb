{
  "cells": [
    {
      "cell_type": "markdown",
      "metadata": {
        "id": "ZCwU6ThIq3_1"
      },
      "source": [
        "#Install Requirements"
      ]
    },
    {
      "cell_type": "code",
      "execution_count": 1,
      "metadata": {
        "id": "-vXMy66BqfhD"
      },
      "outputs": [
        {
          "name": "stdout",
          "output_type": "stream",
          "text": [
            "Requirement already satisfied: sacrebleu in c:\\users\\user\\appdata\\local\\programs\\python\\python39\\lib\\site-packages (2.4.0)\n",
            "Requirement already satisfied: portalocker in c:\\users\\user\\appdata\\local\\programs\\python\\python39\\lib\\site-packages (from sacrebleu) (2.8.2)\n",
            "Requirement already satisfied: regex in c:\\users\\user\\appdata\\local\\programs\\python\\python39\\lib\\site-packages (from sacrebleu) (2023.12.25)\n",
            "Requirement already satisfied: tabulate>=0.8.9 in c:\\users\\user\\appdata\\local\\programs\\python\\python39\\lib\\site-packages (from sacrebleu) (0.9.0)\n",
            "Requirement already satisfied: numpy>=1.17 in c:\\users\\user\\appdata\\local\\programs\\python\\python39\\lib\\site-packages (from sacrebleu) (1.25.0)\n",
            "Requirement already satisfied: colorama in c:\\users\\user\\appdata\\roaming\\python\\python39\\site-packages (from sacrebleu) (0.4.6)\n",
            "Requirement already satisfied: lxml in c:\\users\\user\\appdata\\local\\programs\\python\\python39\\lib\\site-packages (from sacrebleu) (4.9.4)\n",
            "Requirement already satisfied: pywin32>=226 in c:\\users\\user\\appdata\\roaming\\python\\python39\\site-packages (from portalocker->sacrebleu) (306)\n"
          ]
        },
        {
          "name": "stderr",
          "output_type": "stream",
          "text": [
            "\n",
            "[notice] A new release of pip is available: 23.3.1 -> 23.3.2\n",
            "[notice] To update, run: python.exe -m pip install --upgrade pip\n"
          ]
        }
      ],
      "source": [
        "!pip install sacrebleu"
      ]
    },
    {
      "cell_type": "code",
      "execution_count": null,
      "metadata": {
        "id": "bpGHF-zcqoJb"
      },
      "outputs": [],
      "source": [
        "!pip install sentence_transformers"
      ]
    },
    {
      "cell_type": "code",
      "execution_count": null,
      "metadata": {
        "id": "FAXsfiscqqgN"
      },
      "outputs": [],
      "source": [
        "!pip install spacy"
      ]
    },
    {
      "cell_type": "code",
      "execution_count": null,
      "metadata": {
        "colab": {
          "base_uri": "https://localhost:8080/"
        },
        "id": "iFJy0UwYfBaX",
        "outputId": "65c79feb-643a-4071-f256-d4800481aaff"
      },
      "outputs": [
        {
          "name": "stdout",
          "output_type": "stream",
          "text": [
            "Collecting en-core-web-sm==3.7.1\n",
            "  Downloading https://github.com/explosion/spacy-models/releases/download/en_core_web_sm-3.7.1/en_core_web_sm-3.7.1-py3-none-any.whl (12.8 MB)\n",
            "     ---------------------------------------- 0.0/12.8 MB ? eta -:--:--\n",
            "     --------------------------------------- 0.0/12.8 MB 660.6 kB/s eta 0:00:20\n",
            "     --------------------------------------- 0.0/12.8 MB 393.8 kB/s eta 0:00:33\n",
            "     --------------------------------------- 0.1/12.8 MB 819.2 kB/s eta 0:00:16\n",
            "     --------------------------------------- 0.1/12.8 MB 774.0 kB/s eta 0:00:17\n",
            "      -------------------------------------- 0.2/12.8 MB 841.6 kB/s eta 0:00:15\n",
            "      -------------------------------------- 0.2/12.8 MB 841.6 kB/s eta 0:00:15\n",
            "      -------------------------------------- 0.2/12.8 MB 841.6 kB/s eta 0:00:15\n",
            "      -------------------------------------- 0.3/12.8 MB 682.7 kB/s eta 0:00:19\n",
            "     - ------------------------------------- 0.4/12.8 MB 859.0 kB/s eta 0:00:15\n",
            "     - ------------------------------------- 0.5/12.8 MB 942.1 kB/s eta 0:00:14\n",
            "     - -------------------------------------- 0.6/12.8 MB 1.1 MB/s eta 0:00:11\n",
            "     -- ------------------------------------- 0.6/12.8 MB 1.1 MB/s eta 0:00:12\n",
            "     -- ------------------------------------- 0.8/12.8 MB 1.2 MB/s eta 0:00:11\n",
            "     -- ------------------------------------- 0.8/12.8 MB 1.2 MB/s eta 0:00:11\n",
            "     -- ------------------------------------- 0.9/12.8 MB 1.2 MB/s eta 0:00:10\n",
            "     --- ------------------------------------ 1.1/12.8 MB 1.4 MB/s eta 0:00:09\n",
            "     --- ------------------------------------ 1.2/12.8 MB 1.4 MB/s eta 0:00:09\n",
            "     ---- ----------------------------------- 1.3/12.8 MB 1.5 MB/s eta 0:00:08\n",
            "     ---- ----------------------------------- 1.4/12.8 MB 1.6 MB/s eta 0:00:08\n",
            "     ---- ----------------------------------- 1.6/12.8 MB 1.7 MB/s eta 0:00:07\n",
            "     ----- ---------------------------------- 1.7/12.8 MB 1.7 MB/s eta 0:00:07\n",
            "     ----- ---------------------------------- 1.8/12.8 MB 1.7 MB/s eta 0:00:07\n",
            "     ------ --------------------------------- 2.0/12.8 MB 1.8 MB/s eta 0:00:06\n",
            "     ------ --------------------------------- 2.2/12.8 MB 1.9 MB/s eta 0:00:06\n",
            "     ------- -------------------------------- 2.3/12.8 MB 2.0 MB/s eta 0:00:06\n",
            "     ------- -------------------------------- 2.5/12.8 MB 2.0 MB/s eta 0:00:06\n",
            "     -------- ------------------------------- 2.7/12.8 MB 2.0 MB/s eta 0:00:05\n",
            "     --------- ------------------------------ 2.9/12.8 MB 2.1 MB/s eta 0:00:05\n",
            "     --------- ------------------------------ 3.1/12.8 MB 2.2 MB/s eta 0:00:05\n",
            "     ---------- ----------------------------- 3.2/12.8 MB 2.2 MB/s eta 0:00:05\n",
            "     ---------- ----------------------------- 3.4/12.8 MB 2.3 MB/s eta 0:00:05\n",
            "     ----------- ---------------------------- 3.5/12.8 MB 2.3 MB/s eta 0:00:05\n",
            "     ----------- ---------------------------- 3.7/12.8 MB 2.3 MB/s eta 0:00:04\n",
            "     ------------ --------------------------- 3.9/12.8 MB 2.4 MB/s eta 0:00:04\n",
            "     ------------ --------------------------- 4.1/12.8 MB 2.4 MB/s eta 0:00:04\n",
            "     ------------- -------------------------- 4.2/12.8 MB 2.4 MB/s eta 0:00:04\n",
            "     ------------- -------------------------- 4.4/12.8 MB 2.4 MB/s eta 0:00:04\n",
            "     -------------- ------------------------- 4.6/12.8 MB 2.5 MB/s eta 0:00:04\n",
            "     -------------- ------------------------- 4.7/12.8 MB 2.5 MB/s eta 0:00:04\n",
            "     --------------- ------------------------ 5.0/12.8 MB 2.6 MB/s eta 0:00:04\n",
            "     --------------- ------------------------ 5.1/12.8 MB 2.6 MB/s eta 0:00:03\n",
            "     ---------------- ----------------------- 5.2/12.8 MB 2.6 MB/s eta 0:00:03\n",
            "     ---------------- ----------------------- 5.4/12.8 MB 2.6 MB/s eta 0:00:03\n",
            "     ----------------- ---------------------- 5.6/12.8 MB 2.6 MB/s eta 0:00:03\n",
            "     ------------------ --------------------- 5.9/12.8 MB 2.7 MB/s eta 0:00:03\n",
            "     ------------------- -------------------- 6.1/12.8 MB 2.7 MB/s eta 0:00:03\n",
            "     ------------------- -------------------- 6.4/12.8 MB 2.8 MB/s eta 0:00:03\n",
            "     -------------------- ------------------- 6.5/12.8 MB 2.8 MB/s eta 0:00:03\n",
            "     --------------------- ------------------ 6.8/12.8 MB 2.8 MB/s eta 0:00:03\n",
            "     --------------------- ------------------ 7.0/12.8 MB 2.9 MB/s eta 0:00:03\n",
            "     ---------------------- ----------------- 7.3/12.8 MB 2.9 MB/s eta 0:00:02\n",
            "     ----------------------- ---------------- 7.4/12.8 MB 2.9 MB/s eta 0:00:02\n",
            "     ------------------------ --------------- 7.7/12.8 MB 3.0 MB/s eta 0:00:02\n",
            "     ------------------------ --------------- 7.9/12.8 MB 3.0 MB/s eta 0:00:02\n",
            "     ------------------------- -------------- 8.2/12.8 MB 3.0 MB/s eta 0:00:02\n",
            "     -------------------------- ------------- 8.4/12.8 MB 3.1 MB/s eta 0:00:02\n",
            "     -------------------------- ------------- 8.6/12.8 MB 3.1 MB/s eta 0:00:02\n",
            "     --------------------------- ------------ 8.9/12.8 MB 3.2 MB/s eta 0:00:02\n",
            "     ----------------------------- ---------- 9.3/12.8 MB 3.2 MB/s eta 0:00:02\n",
            "     ------------------------------ --------- 9.7/12.8 MB 3.3 MB/s eta 0:00:01\n",
            "     ------------------------------- -------- 10.0/12.8 MB 3.4 MB/s eta 0:00:01\n",
            "     -------------------------------- ------- 10.3/12.8 MB 3.5 MB/s eta 0:00:01\n",
            "     --------------------------------- ------ 10.7/12.8 MB 3.9 MB/s eta 0:00:01\n",
            "     ---------------------------------- ----- 11.1/12.8 MB 4.2 MB/s eta 0:00:01\n",
            "     ----------------------------------- ---- 11.5/12.8 MB 4.3 MB/s eta 0:00:01\n",
            "     ------------------------------------ --- 11.8/12.8 MB 4.5 MB/s eta 0:00:01\n",
            "     ------------------------------------- -- 12.0/12.8 MB 4.4 MB/s eta 0:00:01\n",
            "     -------------------------------------- - 12.3/12.8 MB 4.5 MB/s eta 0:00:01\n",
            "     ---------------------------------------  12.6/12.8 MB 4.6 MB/s eta 0:00:01\n",
            "     ---------------------------------------  12.8/12.8 MB 4.7 MB/s eta 0:00:01\n",
            "     ---------------------------------------  12.8/12.8 MB 4.7 MB/s eta 0:00:01\n",
            "     ---------------------------------------- 12.8/12.8 MB 4.5 MB/s eta 0:00:00\n",
            "Requirement already satisfied: spacy<3.8.0,>=3.7.2 in c:\\users\\user\\appdata\\local\\programs\\python\\python39\\lib\\site-packages (from en-core-web-sm==3.7.1) (3.7.2)\n",
            "Requirement already satisfied: spacy-legacy<3.1.0,>=3.0.11 in c:\\users\\user\\appdata\\local\\programs\\python\\python39\\lib\\site-packages (from spacy<3.8.0,>=3.7.2->en-core-web-sm==3.7.1) (3.0.12)\n",
            "Requirement already satisfied: spacy-loggers<2.0.0,>=1.0.0 in c:\\users\\user\\appdata\\local\\programs\\python\\python39\\lib\\site-packages (from spacy<3.8.0,>=3.7.2->en-core-web-sm==3.7.1) (1.0.5)\n",
            "Requirement already satisfied: murmurhash<1.1.0,>=0.28.0 in c:\\users\\user\\appdata\\local\\programs\\python\\python39\\lib\\site-packages (from spacy<3.8.0,>=3.7.2->en-core-web-sm==3.7.1) (1.0.10)\n",
            "Requirement already satisfied: cymem<2.1.0,>=2.0.2 in c:\\users\\user\\appdata\\local\\programs\\python\\python39\\lib\\site-packages (from spacy<3.8.0,>=3.7.2->en-core-web-sm==3.7.1) (2.0.8)\n",
            "Requirement already satisfied: preshed<3.1.0,>=3.0.2 in c:\\users\\user\\appdata\\local\\programs\\python\\python39\\lib\\site-packages (from spacy<3.8.0,>=3.7.2->en-core-web-sm==3.7.1) (3.0.9)\n",
            "Requirement already satisfied: thinc<8.3.0,>=8.1.8 in c:\\users\\user\\appdata\\local\\programs\\python\\python39\\lib\\site-packages (from spacy<3.8.0,>=3.7.2->en-core-web-sm==3.7.1) (8.2.2)\n",
            "Requirement already satisfied: wasabi<1.2.0,>=0.9.1 in c:\\users\\user\\appdata\\local\\programs\\python\\python39\\lib\\site-packages (from spacy<3.8.0,>=3.7.2->en-core-web-sm==3.7.1) (1.1.2)\n",
            "Requirement already satisfied: srsly<3.0.0,>=2.4.3 in c:\\users\\user\\appdata\\local\\programs\\python\\python39\\lib\\site-packages (from spacy<3.8.0,>=3.7.2->en-core-web-sm==3.7.1) (2.4.8)\n",
            "Requirement already satisfied: catalogue<2.1.0,>=2.0.6 in c:\\users\\user\\appdata\\local\\programs\\python\\python39\\lib\\site-packages (from spacy<3.8.0,>=3.7.2->en-core-web-sm==3.7.1) (2.0.10)\n",
            "Requirement already satisfied: weasel<0.4.0,>=0.1.0 in c:\\users\\user\\appdata\\local\\programs\\python\\python39\\lib\\site-packages (from spacy<3.8.0,>=3.7.2->en-core-web-sm==3.7.1) (0.3.4)\n",
            "Requirement already satisfied: typer<0.10.0,>=0.3.0 in c:\\users\\user\\appdata\\local\\programs\\python\\python39\\lib\\site-packages (from spacy<3.8.0,>=3.7.2->en-core-web-sm==3.7.1) (0.9.0)\n",
            "Requirement already satisfied: smart-open<7.0.0,>=5.2.1 in c:\\users\\user\\appdata\\local\\programs\\python\\python39\\lib\\site-packages (from spacy<3.8.0,>=3.7.2->en-core-web-sm==3.7.1) (6.4.0)\n",
            "Requirement already satisfied: tqdm<5.0.0,>=4.38.0 in c:\\users\\user\\appdata\\local\\programs\\python\\python39\\lib\\site-packages (from spacy<3.8.0,>=3.7.2->en-core-web-sm==3.7.1) (4.66.1)\n",
            "Requirement already satisfied: requests<3.0.0,>=2.13.0 in c:\\users\\user\\appdata\\local\\programs\\python\\python39\\lib\\site-packages (from spacy<3.8.0,>=3.7.2->en-core-web-sm==3.7.1) (2.31.0)\n",
            "Requirement already satisfied: pydantic!=1.8,!=1.8.1,<3.0.0,>=1.7.4 in c:\\users\\user\\appdata\\local\\programs\\python\\python39\\lib\\site-packages (from spacy<3.8.0,>=3.7.2->en-core-web-sm==3.7.1) (1.10.13)\n",
            "Requirement already satisfied: jinja2 in c:\\users\\user\\appdata\\local\\programs\\python\\python39\\lib\\site-packages (from spacy<3.8.0,>=3.7.2->en-core-web-sm==3.7.1) (3.1.2)\n",
            "Requirement already satisfied: setuptools in c:\\users\\user\\appdata\\local\\programs\\python\\python39\\lib\\site-packages (from spacy<3.8.0,>=3.7.2->en-core-web-sm==3.7.1) (68.2.2)\n",
            "Requirement already satisfied: packaging>=20.0 in c:\\users\\user\\appdata\\roaming\\python\\python39\\site-packages (from spacy<3.8.0,>=3.7.2->en-core-web-sm==3.7.1) (23.1)\n",
            "Requirement already satisfied: langcodes<4.0.0,>=3.2.0 in c:\\users\\user\\appdata\\local\\programs\\python\\python39\\lib\\site-packages (from spacy<3.8.0,>=3.7.2->en-core-web-sm==3.7.1) (3.3.0)\n",
            "Requirement already satisfied: numpy>=1.19.0 in c:\\users\\user\\appdata\\local\\programs\\python\\python39\\lib\\site-packages (from spacy<3.8.0,>=3.7.2->en-core-web-sm==3.7.1) (1.25.0)\n",
            "Requirement already satisfied: typing-extensions>=4.2.0 in c:\\users\\user\\appdata\\local\\programs\\python\\python39\\lib\\site-packages (from pydantic!=1.8,!=1.8.1,<3.0.0,>=1.7.4->spacy<3.8.0,>=3.7.2->en-core-web-sm==3.7.1) (4.9.0)\n",
            "Requirement already satisfied: charset-normalizer<4,>=2 in c:\\users\\user\\appdata\\local\\programs\\python\\python39\\lib\\site-packages (from requests<3.0.0,>=2.13.0->spacy<3.8.0,>=3.7.2->en-core-web-sm==3.7.1) (3.3.2)\n",
            "Requirement already satisfied: idna<4,>=2.5 in c:\\users\\user\\appdata\\local\\programs\\python\\python39\\lib\\site-packages (from requests<3.0.0,>=2.13.0->spacy<3.8.0,>=3.7.2->en-core-web-sm==3.7.1) (3.6)\n",
            "Requirement already satisfied: urllib3<3,>=1.21.1 in c:\\users\\user\\appdata\\local\\programs\\python\\python39\\lib\\site-packages (from requests<3.0.0,>=2.13.0->spacy<3.8.0,>=3.7.2->en-core-web-sm==3.7.1) (2.1.0)\n",
            "Requirement already satisfied: certifi>=2017.4.17 in c:\\users\\user\\appdata\\local\\programs\\python\\python39\\lib\\site-packages (from requests<3.0.0,>=2.13.0->spacy<3.8.0,>=3.7.2->en-core-web-sm==3.7.1) (2023.11.17)\n",
            "Requirement already satisfied: blis<0.8.0,>=0.7.8 in c:\\users\\user\\appdata\\local\\programs\\python\\python39\\lib\\site-packages (from thinc<8.3.0,>=8.1.8->spacy<3.8.0,>=3.7.2->en-core-web-sm==3.7.1) (0.7.11)\n",
            "Requirement already satisfied: confection<1.0.0,>=0.0.1 in c:\\users\\user\\appdata\\local\\programs\\python\\python39\\lib\\site-packages (from thinc<8.3.0,>=8.1.8->spacy<3.8.0,>=3.7.2->en-core-web-sm==3.7.1) (0.1.4)\n",
            "Requirement already satisfied: colorama in c:\\users\\user\\appdata\\roaming\\python\\python39\\site-packages (from tqdm<5.0.0,>=4.38.0->spacy<3.8.0,>=3.7.2->en-core-web-sm==3.7.1) (0.4.6)\n",
            "Requirement already satisfied: click<9.0.0,>=7.1.1 in c:\\users\\user\\appdata\\local\\programs\\python\\python39\\lib\\site-packages (from typer<0.10.0,>=0.3.0->spacy<3.8.0,>=3.7.2->en-core-web-sm==3.7.1) (8.1.7)\n",
            "Requirement already satisfied: cloudpathlib<0.17.0,>=0.7.0 in c:\\users\\user\\appdata\\local\\programs\\python\\python39\\lib\\site-packages (from weasel<0.4.0,>=0.1.0->spacy<3.8.0,>=3.7.2->en-core-web-sm==3.7.1) (0.16.0)\n",
            "Requirement already satisfied: MarkupSafe>=2.0 in c:\\users\\user\\appdata\\local\\programs\\python\\python39\\lib\\site-packages (from jinja2->spacy<3.8.0,>=3.7.2->en-core-web-sm==3.7.1) (2.1.3)\n",
            "\u001b[38;5;2m✔ Download and installation successful\u001b[0m\n",
            "You can now load the package via spacy.load('en_core_web_sm')\n"
          ]
        },
        {
          "name": "stderr",
          "output_type": "stream",
          "text": [
            "\n",
            "[notice] A new release of pip is available: 23.3.1 -> 23.3.2\n",
            "[notice] To update, run: python.exe -m pip install --upgrade pip\n"
          ]
        }
      ],
      "source": [
        "!python -m spacy download en_core_web_sm"
      ]
    },
    {
      "cell_type": "code",
      "execution_count": null,
      "metadata": {
        "id": "onawTaMCfD_3"
      },
      "outputs": [],
      "source": [
        "import spacy\n",
        "nlp_en = spacy.load(\"en_core_web_sm\")"
      ]
    },
    {
      "cell_type": "code",
      "execution_count": null,
      "metadata": {
        "id": "l36HbkU98X_i",
        "outputId": "25102b05-3ea9-49f8-f332-b6f1f0d9e0e9"
      },
      "outputs": [
        {
          "name": "stderr",
          "output_type": "stream",
          "text": [
            "c:\\Users\\User\\AppData\\Local\\Programs\\Python\\Python39\\lib\\site-packages\\tqdm\\auto.py:21: TqdmWarning: IProgress not found. Please update jupyter and ipywidgets. See https://ipywidgets.readthedocs.io/en/stable/user_install.html\n",
            "  from .autonotebook import tqdm as notebook_tqdm\n"
          ]
        }
      ],
      "source": [
        "from sentence_transformers import SentenceTransformer\n",
        "import pandas as pd\n",
        "import numpy as np\n",
        "from sklearn.metrics import roc_auc_score\n",
        "from scipy.stats import spearmanr\n",
        "from tqdm.auto import tqdm, trange\n",
        "from sacrebleu import CHRF\n",
        "from sklearn.cluster import KMeans\n",
        "import json\n",
        "import re\n",
        "from collections import Counter\n",
        "import tqdm"
      ]
    },
    {
      "cell_type": "markdown",
      "metadata": {
        "id": "nM6u4DWkrAKX"
      },
      "source": [
        "# Load Model (t5)"
      ]
    },
    {
      "cell_type": "code",
      "execution_count": null,
      "metadata": {
        "id": "GcIVY1my8ZUW"
      },
      "outputs": [],
      "source": [
        "t5 = SentenceTransformer('sentence-transformers/sentence-t5-base')"
      ]
    },
    {
      "cell_type": "code",
      "execution_count": null,
      "metadata": {
        "id": "U4WfIkYfJ8Td"
      },
      "outputs": [],
      "source": [
        "model = t5"
      ]
    },
    {
      "cell_type": "markdown",
      "metadata": {
        "id": "K7e0fOmd8a23"
      },
      "source": [
        "## Import the datasets\n"
      ]
    },
    {
      "cell_type": "code",
      "execution_count": null,
      "metadata": {
        "id": "XHBvUtza9SoH"
      },
      "outputs": [],
      "source": [
        "with open(\"train.model-aware.v2.json\", \"r\") as f:\n",
        "    trial_data = json.load(f)\n",
        "\n",
        "train_df_aware = pd.json_normalize(trial_data)"
      ]
    },
    {
      "cell_type": "code",
      "execution_count": null,
      "metadata": {
        "id": "dUs9dCPIO0q9"
      },
      "outputs": [],
      "source": [
        "with open(\"train.model-agnostic.json\", \"r\") as f:\n",
        "    trial_data = json.load(f)\n",
        "\n",
        "train_df_agnostic = pd.json_normalize(trial_data)"
      ]
    },
    {
      "cell_type": "code",
      "execution_count": null,
      "metadata": {
        "id": "M_5CClmeIVzx"
      },
      "outputs": [],
      "source": [
        "with open(\"test.model-aware.json\", \"r\") as f:\n",
        "    trial_data = json.load(f)\n",
        "\n",
        "test_df_aware = pd.json_normalize(trial_data)"
      ]
    },
    {
      "cell_type": "code",
      "execution_count": null,
      "metadata": {
        "id": "yaG-V2FaO44D"
      },
      "outputs": [],
      "source": [
        "with open(\"test.model-agnostic.json\", \"r\") as f:\n",
        "    trial_data = json.load(f)\n",
        "\n",
        "test_df_agnostic = pd.json_normalize(trial_data)"
      ]
    },
    {
      "cell_type": "code",
      "execution_count": null,
      "metadata": {
        "id": "9WzkHrCbqbsF"
      },
      "outputs": [],
      "source": [
        "with open(\"val.model-aware.json\", \"r\") as f:\n",
        "    trial_data = json.load(f)\n",
        "\n",
        "val_df_aware = pd.json_normalize(trial_data)"
      ]
    },
    {
      "cell_type": "code",
      "execution_count": null,
      "metadata": {
        "id": "sGwJFXNSqbsF"
      },
      "outputs": [],
      "source": [
        "with open(\"val.model-agnostic.json\", \"r\") as f:\n",
        "    trial_data = json.load(f)\n",
        "\n",
        "val_df_agnostic = pd.json_normalize(trial_data)"
      ]
    },
    {
      "cell_type": "markdown",
      "metadata": {
        "id": "qLAPNEBdrH7I"
      },
      "source": [
        "# Text Preprocessing"
      ]
    },
    {
      "cell_type": "code",
      "execution_count": null,
      "metadata": {
        "id": "NMXpKoqGehSh"
      },
      "outputs": [],
      "source": [
        "def extract_word(text):\n",
        "    match = re.search(r'< define >(.*?)< /define >', text)\n",
        "    return match.group(1) if match else None"
      ]
    },
    {
      "cell_type": "code",
      "execution_count": null,
      "metadata": {
        "id": "K4hDgH9VekoH"
      },
      "outputs": [],
      "source": [
        "ar = nlp_en.get_pipe('attribute_ruler')\n",
        "\n",
        "ar.add([[{\"TEXT\":\"'ve\"}]],{\"LEMMA\":\"have\"})\n",
        "ar.add([[{\"TEXT\":\"'m\"}]],{\"LEMMA\":\"be\"})\n",
        "ar.add([[{\"TEXT\":\"n't\"}]],{\"LEMMA\":\"not\"})\n",
        "ar.add([[{\"TEXT\":\"'ll\"}]],{\"LEMMA\":\"will\"})\n",
        "ar.add([[{\"TEXT\":\"'re\"}]],{\"LEMMA\":\"be\"})"
      ]
    },
    {
      "cell_type": "code",
      "execution_count": null,
      "metadata": {
        "id": "f7LqedJ6eo2g"
      },
      "outputs": [],
      "source": [
        "def preprocess(original_df):\n",
        "\n",
        "  df = original_df\n",
        "\n",
        "  df['context'] = \"\"\n",
        "  df['word_to_define'] = \"\"\n",
        "\n",
        "  for i in tqdm.trange(len(df)):\n",
        "\n",
        "    df.at[i, 'hyp'] = \" \".join(token.lemma_ for token in nlp_en(df.iloc[i]['hyp']) if not token.is_punct)\n",
        "    df.at[i, 'tgt'] = \" \".join(token.lemma_ for token in nlp_en(df.iloc[i]['tgt']) if not token.is_punct)\n",
        "    if pd.isna(df.at[i, 'src']):\n",
        "      df.at[i, 'src'] = ''\n",
        "    else:\n",
        "      df.at[i, 'src'] = \" \".join(token.lemma_ for token in nlp_en(df.iloc[i]['src']) if not token.is_punct)\n",
        "\n",
        "\n",
        "    hyp = nlp_en(df.at[i, 'hyp'])\n",
        "    tgt = nlp_en(df.at[i, 'tgt'])\n",
        "    src = nlp_en(df.at[i, 'src'])\n",
        "\n",
        "    if df.at[i, 'task'] == 'DM':\n",
        "      df.at[i, 'word_to_define'] = extract_word(df.at[i, 'src'])\n",
        "    else:\n",
        "      df.at[i, 'word_to_define'] = '-'\n",
        "\n",
        "    hyp_tokens = [token.text for token in hyp]\n",
        "    tgt_tokens = [token.text for token in tgt]\n",
        "\n",
        "    if 'model' in df.columns:\n",
        "      df = pd.get_dummies(df, columns=['model'], prefix='model')\n",
        "      model_columns = [col for col in df.columns if col.startswith('model_')]\n",
        "      df[model_columns] = df[model_columns].astype(int)\n",
        "\n",
        "    intersection = dict(Counter(hyp_tokens) & Counter(tgt_tokens))\n",
        "    mutual_words = list(intersection.keys())\n",
        "\n",
        "    df.at[i, 'num_of_common'] = len(mutual_words)\n",
        "\n",
        "    if df.at[i, 'task'] == 'PG':\n",
        "      df.at[i, 'context'] = df.at[i, 'src']\n",
        "    else:\n",
        "      df.at[i, 'context'] = df.at[i, 'tgt']\n",
        "\n",
        "  return df\n"
      ]
    },
    {
      "cell_type": "code",
      "execution_count": null,
      "metadata": {
        "id": "oDk1pOaoqbsG",
        "outputId": "3b3ed1d2-b6d1-4545-dd70-e4440a0a5772"
      },
      "outputs": [
        {
          "name": "stderr",
          "output_type": "stream",
          "text": [
            "100%|██████████| 501/501 [00:30<00:00, 16.17it/s]\n"
          ]
        }
      ],
      "source": [
        "val_df_aware_processed = preprocess(val_df_aware)"
      ]
    },
    {
      "cell_type": "code",
      "execution_count": null,
      "metadata": {
        "id": "6WYbz7rtqbsH",
        "outputId": "1d8daecd-fcab-405c-9fe9-0545348e0a4c"
      },
      "outputs": [
        {
          "name": "stderr",
          "output_type": "stream",
          "text": [
            "100%|██████████| 499/499 [00:28<00:00, 17.37it/s]\n"
          ]
        }
      ],
      "source": [
        "val_df_agnostic_processed = preprocess(val_df_agnostic)"
      ]
    },
    {
      "cell_type": "code",
      "execution_count": null,
      "metadata": {
        "colab": {
          "base_uri": "https://localhost:8080/"
        },
        "id": "wlpUEF0zfpnJ",
        "outputId": "e78ff44e-2a8f-467a-f2e1-dc3731c55c2f"
      },
      "outputs": [
        {
          "name": "stderr",
          "output_type": "stream",
          "text": [
            "  0%|          | 0/1500 [00:00<?, ?it/s]"
          ]
        },
        {
          "name": "stderr",
          "output_type": "stream",
          "text": [
            "100%|██████████| 1500/1500 [01:32<00:00, 16.17it/s]\n"
          ]
        }
      ],
      "source": [
        "test_df_aware_processed = preprocess(test_df_aware)"
      ]
    },
    {
      "cell_type": "code",
      "execution_count": null,
      "metadata": {
        "colab": {
          "base_uri": "https://localhost:8080/"
        },
        "id": "1gp087wWPIGo",
        "outputId": "7e65b5f9-aed6-40e4-d9db-c05a675cd32d"
      },
      "outputs": [
        {
          "name": "stderr",
          "output_type": "stream",
          "text": [
            "100%|██████████| 1500/1500 [01:23<00:00, 18.05it/s]\n"
          ]
        }
      ],
      "source": [
        "test_df_agnostic_processed = preprocess(test_df_agnostic)"
      ]
    },
    {
      "cell_type": "code",
      "execution_count": null,
      "metadata": {
        "colab": {
          "base_uri": "https://localhost:8080/"
        },
        "id": "FbvUjhXuwAXv",
        "outputId": "4a71ab80-02e9-4ac3-f263-9c2bed430ac6"
      },
      "outputs": [
        {
          "name": "stderr",
          "output_type": "stream",
          "text": [
            "100%|██████████| 30000/30000 [33:17<00:00, 15.02it/s]\n"
          ]
        }
      ],
      "source": [
        "train_df_aware_processed = preprocess(train_df_aware)"
      ]
    },
    {
      "cell_type": "code",
      "execution_count": null,
      "metadata": {
        "colab": {
          "base_uri": "https://localhost:8080/"
        },
        "id": "MFUL7v8lPLOi",
        "outputId": "b56e3908-2d74-4580-af7a-8d92bb43d79e"
      },
      "outputs": [
        {
          "name": "stderr",
          "output_type": "stream",
          "text": [
            "  0%|          | 2/30000 [00:00<28:30, 17.54it/s]"
          ]
        },
        {
          "name": "stderr",
          "output_type": "stream",
          "text": [
            "100%|██████████| 30000/30000 [23:55<00:00, 20.90it/s]\n"
          ]
        }
      ],
      "source": [
        "train_df_agnostic_processed = preprocess(train_df_agnostic)"
      ]
    },
    {
      "cell_type": "markdown",
      "metadata": {
        "id": "LVZU4rZgrPCW"
      },
      "source": [
        "# Extract Embeddings"
      ]
    },
    {
      "cell_type": "code",
      "execution_count": null,
      "metadata": {
        "id": "o-z5j67iMb53"
      },
      "outputs": [],
      "source": [
        "def get_embeddings(df):\n",
        "  new_df = df\n",
        "\n",
        "  emb_hyp = model.encode(df.hyp.tolist(), show_progress_bar=True)\n",
        "  emb_con = model.encode(df.context.tolist(), show_progress_bar=True)\n",
        "\n",
        "  sims = (emb_con * emb_hyp).sum(1)\n",
        "  sims.shape\n",
        "\n",
        "  new_df[\"full_prob\"] = 1-sims\n",
        "  new_df[\"sims\"] = sims\n",
        "\n",
        "  return new_df"
      ]
    },
    {
      "cell_type": "code",
      "execution_count": null,
      "metadata": {
        "colab": {
          "base_uri": "https://localhost:8080/",
          "height": 181
        },
        "id": "nVLZQcbXNV3y",
        "outputId": "ecc32201-d122-4a76-9420-e886f4e27006"
      },
      "outputs": [
        {
          "name": "stderr",
          "output_type": "stream",
          "text": [
            "Batches: 100%|██████████| 938/938 [1:26:27<00:00,  5.53s/it]\n",
            "Batches: 100%|██████████| 938/938 [1:12:13<00:00,  4.62s/it]\n"
          ]
        }
      ],
      "source": [
        "train_df_aware = get_embeddings(train_df_aware_processed)"
      ]
    },
    {
      "cell_type": "code",
      "execution_count": null,
      "metadata": {
        "id": "hlGqCxeuPlOH",
        "outputId": "3f67ac47-cff2-4c98-fcda-23ae023db34e"
      },
      "outputs": [
        {
          "name": "stderr",
          "output_type": "stream",
          "text": [
            "Batches: 100%|██████████| 938/938 [32:59<00:00,  2.11s/it] \n",
            "Batches: 100%|██████████| 938/938 [41:41<00:00,  2.67s/it]  \n"
          ]
        }
      ],
      "source": [
        "train_df_agnostic = get_embeddings(train_df_agnostic_processed)"
      ]
    },
    {
      "cell_type": "code",
      "execution_count": null,
      "metadata": {
        "id": "IMd_efAHX3OZ",
        "outputId": "42b5f2fa-bfbc-4c9f-873a-9f7da6a18324"
      },
      "outputs": [
        {
          "name": "stderr",
          "output_type": "stream",
          "text": [
            "Batches:   0%|          | 0/47 [00:00<?, ?it/s]"
          ]
        },
        {
          "name": "stderr",
          "output_type": "stream",
          "text": [
            "Batches: 100%|██████████| 47/47 [04:00<00:00,  5.12s/it]\n",
            "Batches: 100%|██████████| 47/47 [03:37<00:00,  4.62s/it]\n"
          ]
        }
      ],
      "source": [
        "test_df_aware = get_embeddings(test_df_aware_processed)"
      ]
    },
    {
      "cell_type": "code",
      "execution_count": null,
      "metadata": {
        "id": "mmxGkU3nPqMc",
        "outputId": "03488cbd-27df-4188-94ec-d943d85b0646"
      },
      "outputs": [
        {
          "name": "stderr",
          "output_type": "stream",
          "text": [
            "Batches:   0%|          | 0/47 [00:00<?, ?it/s]"
          ]
        },
        {
          "name": "stderr",
          "output_type": "stream",
          "text": [
            "Batches: 100%|██████████| 47/47 [01:40<00:00,  2.14s/it]\n",
            "Batches: 100%|██████████| 47/47 [01:52<00:00,  2.40s/it]\n"
          ]
        }
      ],
      "source": [
        "test_df_agnostic = get_embeddings(test_df_agnostic_processed)"
      ]
    },
    {
      "cell_type": "code",
      "execution_count": null,
      "metadata": {
        "id": "4EBbIvVTqbsM",
        "outputId": "cca1ff28-8dc8-4b81-c006-0aea90f8d369"
      },
      "outputs": [
        {
          "name": "stderr",
          "output_type": "stream",
          "text": [
            "Batches: 100%|██████████| 16/16 [00:30<00:00,  1.93s/it]\n",
            "Batches: 100%|██████████| 16/16 [00:35<00:00,  2.25s/it]\n"
          ]
        }
      ],
      "source": [
        "val_df_agnostic = get_embeddings(val_df_agnostic_processed)"
      ]
    },
    {
      "cell_type": "code",
      "execution_count": null,
      "metadata": {
        "id": "41QBYFY2qbsM",
        "outputId": "8bd40069-9f33-4a06-a7ad-5703398f5e90"
      },
      "outputs": [
        {
          "name": "stderr",
          "output_type": "stream",
          "text": [
            "Batches: 100%|██████████| 16/16 [00:53<00:00,  3.33s/it]\n",
            "Batches: 100%|██████████| 16/16 [00:57<00:00,  3.61s/it]\n"
          ]
        }
      ],
      "source": [
        "val_df_aware = get_embeddings(val_df_aware_processed)"
      ]
    },
    {
      "cell_type": "markdown",
      "metadata": {
        "id": "H3Hqm0wLrW4J"
      },
      "source": [
        "# Clustering to get labels\n",
        "if not given (as in val set)"
      ]
    },
    {
      "cell_type": "code",
      "execution_count": null,
      "metadata": {
        "id": "i4Qq6GDtPX_T"
      },
      "outputs": [],
      "source": [
        "def get_labels(df):\n",
        "  model_columns = [col for col in df.columns if col.startswith('model_')]\n",
        "\n",
        "  if model_columns:\n",
        "    selected_features = ['sims', 'full_prob'] + model_columns\n",
        "  else:\n",
        "    selected_features = ['sims', 'full_prob']\n",
        "\n",
        "\n",
        "  data = df[selected_features]\n",
        "\n",
        "  k = 2\n",
        "\n",
        "  kmeans = KMeans(n_clusters=k, random_state=42)\n",
        "  df['hallucination'] = kmeans.fit_predict(data)\n",
        "\n",
        "\n",
        "  print(df['hallucination'].value_counts())\n",
        "\n",
        "  return df"
      ]
    },
    {
      "cell_type": "code",
      "execution_count": null,
      "metadata": {
        "id": "mecAYNCmSwQS",
        "outputId": "56ca7e9f-a427-43ff-fea9-2bc3f7013629"
      },
      "outputs": [
        {
          "name": "stderr",
          "output_type": "stream",
          "text": [
            "c:\\Users\\User\\AppData\\Local\\Programs\\Python\\Python39\\lib\\site-packages\\sklearn\\cluster\\_kmeans.py:1416: FutureWarning: The default value of `n_init` will change from 10 to 'auto' in 1.4. Set the value of `n_init` explicitly to suppress the warning\n",
            "  super()._check_params_vs_input(X, default_n_init=10)\n"
          ]
        },
        {
          "name": "stdout",
          "output_type": "stream",
          "text": [
            "hallucination\n",
            "0    20556\n",
            "1     9444\n",
            "Name: count, dtype: int64\n"
          ]
        }
      ],
      "source": [
        "train_df_agnostic = get_labels(train_df_agnostic)"
      ]
    },
    {
      "cell_type": "code",
      "execution_count": null,
      "metadata": {
        "id": "dqUmjJ1pS6Yd",
        "outputId": "bb349a9d-70d8-4166-9492-863184575038"
      },
      "outputs": [
        {
          "name": "stdout",
          "output_type": "stream",
          "text": [
            "hallucination\n",
            "0    20000\n",
            "1    10000\n",
            "Name: count, dtype: int64\n"
          ]
        },
        {
          "name": "stderr",
          "output_type": "stream",
          "text": [
            "c:\\Users\\User\\AppData\\Local\\Programs\\Python\\Python39\\lib\\site-packages\\sklearn\\cluster\\_kmeans.py:1416: FutureWarning: The default value of `n_init` will change from 10 to 'auto' in 1.4. Set the value of `n_init` explicitly to suppress the warning\n",
            "  super()._check_params_vs_input(X, default_n_init=10)\n"
          ]
        }
      ],
      "source": [
        "train_df_aware = get_labels(train_df_aware)"
      ]
    },
    {
      "cell_type": "markdown",
      "metadata": {
        "id": "s_U56ktYrgfE"
      },
      "source": [
        "Binary encoding of labels in labeled set (val)"
      ]
    },
    {
      "cell_type": "code",
      "execution_count": null,
      "metadata": {
        "id": "ClphKk3iqbsN"
      },
      "outputs": [],
      "source": [
        "val_df_aware['hallucination'] = np.where(val_df_aware['label'] == 'Hallucination', 1, 0)\n",
        "val_df_agnostic['hallucination'] = np.where(val_df_agnostic['label'] == 'Hallucination', 1, 0)"
      ]
    },
    {
      "cell_type": "markdown",
      "metadata": {
        "id": "fzr8X8S2r1dv"
      },
      "source": [
        "# Make Predictions (using classifiers)"
      ]
    },
    {
      "cell_type": "code",
      "execution_count": null,
      "metadata": {
        "id": "4VMVk95MRA0U"
      },
      "outputs": [],
      "source": [
        "from sklearn.ensemble import VotingClassifier\n",
        "from sklearn.linear_model import LogisticRegression\n",
        "from sklearn.ensemble import RandomForestClassifier, GradientBoostingClassifier, VotingClassifier\n",
        "from sklearn.neighbors import KNeighborsClassifier\n",
        "from sklearn.tree import DecisionTreeClassifier"
      ]
    },
    {
      "cell_type": "code",
      "execution_count": null,
      "metadata": {
        "id": "RS-aqSFwQxKp"
      },
      "outputs": [],
      "source": [
        "def get_predictions(df_train, df_test):\n",
        "  y_train = df_train['hallucination']\n",
        "\n",
        "  x_train = df_train[['sims', 'full_prob']]\n",
        "\n",
        "  x_test = df_test[['sims', 'full_prob']]\n",
        "\n",
        "  y_test = None\n",
        "\n",
        "  # 1) logistic regression =lr\n",
        "  lr=LogisticRegression(max_iter=5000)\n",
        "  # 2) random forest =rf\n",
        "  rf = RandomForestClassifier(n_estimators=30,max_depth=3)\n",
        "  # 3) GradientBoostingClassifier = gbc\n",
        "  gbc = GradientBoostingClassifier(n_estimators=100)\n",
        "  # 4) KNearestNeighbours = knn\n",
        "  knn = KNeighborsClassifier(algorithm = 'brute', n_jobs=-1)\n",
        "  # 5) CLF = clf\n",
        "  clf = DecisionTreeClassifier(min_samples_split=10,max_depth=3)\n",
        "\n",
        "  evc=VotingClassifier(estimators=[('lr',lr),('rf',rf),('gbc',gbc),('knn',knn),('clf',clf)])\n",
        "  evc.fit(x_train, y_train)\n",
        "\n",
        "  y_test = evc.predict(x_test)\n",
        "\n",
        "  df_test[\"hallucination\"] = y_test\n",
        "\n",
        "  return df_test\n"
      ]
    },
    {
      "cell_type": "markdown",
      "metadata": {
        "id": "GwnFkuyhsNbo"
      },
      "source": [
        "Different approaches (labeled/unlabeled training sets)"
      ]
    },
    {
      "cell_type": "code",
      "execution_count": null,
      "metadata": {
        "id": "37dPdX9pqbsO"
      },
      "outputs": [],
      "source": [
        "#labeled\n",
        "test_df_aware_pred = get_predictions(val_df_aware, test_df_aware)\n",
        "test_df_agnostic_pred = get_predictions(val_df_agnostic, test_df_agnostic)"
      ]
    },
    {
      "cell_type": "code",
      "execution_count": null,
      "metadata": {
        "id": "_PPNF4JoRSAX"
      },
      "outputs": [],
      "source": [
        "#unlabeled\n",
        "test_df_aware_pred = get_predictions(train_df_aware, test_df_aware)\n",
        "test_df_agnostic_pred = get_predictions(train_df_agnostic, test_df_agnostic)"
      ]
    },
    {
      "cell_type": "markdown",
      "metadata": {
        "id": "1c8CKC7PsDLY"
      },
      "source": [
        "# Write output files"
      ]
    },
    {
      "cell_type": "code",
      "execution_count": null,
      "metadata": {
        "id": "gzrPfNm4QVHw"
      },
      "outputs": [],
      "source": [
        "def write_output(test_df, output_filename):\n",
        "    result_list = []\n",
        "\n",
        "    for _, row in test_df.iterrows():\n",
        "        current_id = row[\"id\"]\n",
        "\n",
        "        if row[\"hallucination\"] == 1:\n",
        "            label = 'Hallucination'\n",
        "            probability = row[\"sims\"]\n",
        "        else:\n",
        "            label = 'Not Hallucination'\n",
        "            probability = 1 - row[\"sims\"]\n",
        "\n",
        "        result_dict = {\"label\": label, \"p(Hallucination)\": probability,\"id\": current_id}\n",
        "        result_list.append(result_dict)\n",
        "\n",
        "    with open(output_filename, \"w\") as json_file:\n",
        "        json.dump(result_list, json_file)\n",
        "\n",
        "    print(f\"Results written to {output_filename}\")\n"
      ]
    },
    {
      "cell_type": "code",
      "execution_count": null,
      "metadata": {
        "id": "RuxcorK3qbsg",
        "outputId": "d8cd9b1b-fc17-408d-8797-cc3a8abbb1f2"
      },
      "outputs": [
        {
          "name": "stdout",
          "output_type": "stream",
          "text": [
            "Results written to test.model-aware-output.json\n"
          ]
        }
      ],
      "source": [
        "write_output(test_df_aware_pred, 'test.model-aware-output.json')\n",
        "write_output(test_df_agnostic_pred, 'test.model-agnostic-output.json')"
      ]
    }
  ],
  "metadata": {
    "colab": {
      "provenance": []
    },
    "kernelspec": {
      "display_name": "Python 3",
      "name": "python3"
    },
    "language_info": {
      "codemirror_mode": {
        "name": "ipython",
        "version": 3
      },
      "file_extension": ".py",
      "mimetype": "text/x-python",
      "name": "python",
      "nbconvert_exporter": "python",
      "pygments_lexer": "ipython3",
      "version": "3.9.2"
    }
  },
  "nbformat": 4,
  "nbformat_minor": 0
}
